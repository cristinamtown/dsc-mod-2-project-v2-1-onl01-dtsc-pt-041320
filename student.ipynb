{
 "cells": [
  {
   "cell_type": "markdown",
   "metadata": {},
   "source": [
    "### Final Project Submission\n",
    "\n",
    "Please fill out:\n",
    "* Student name: Cristina Townsend\n",
    "* Student pace: part time \n",
    "* Scheduled project review date/time: Wednesday 08/12/2020 at 16:00\n",
    "* Instructor name: James Irving\n",
    "* Blog post URL:https://github.com/cristinamtown/dsc-mod-2-project-v2-1-onl01-dtsc-pt-041320/blob/master/Blog%20Post.ipynb\n",
    "* Presentation URL: https://docs.google.com/presentation/d/1V97mN3zDtDcKiJJ6MrYXO1FuYYEwQeSSoTMuaXWYeo4/edit?pli=1#slide=id.p\n"
   ]
  },
  {
   "cell_type": "markdown",
   "metadata": {},
   "source": [
    "#### Business Case\n",
    "In this notebook, we'll explore, and model King County House Sale dataset with a multivariate linear regression to predict the sale price of houses by answering the following questions:\n",
    "- What are some of the important aspects when it comes to pricing your home for sale?\n",
    "- Which things are not as important when trying to sell your home?\n",
    "- How can we improve the potential sale price of your home?\n",
    "\n",
    "\n"
   ]
  },
  {
   "cell_type": "markdown",
   "metadata": {},
   "source": [
    "## Obtaining the Data"
   ]
  },
  {
   "cell_type": "code",
   "execution_count": 1,
   "metadata": {},
   "outputs": [],
   "source": [
    "import pandas as pd"
   ]
  },
  {
   "cell_type": "code",
   "execution_count": 2,
   "metadata": {},
   "outputs": [
    {
     "data": {
      "text/html": [
       "<div>\n",
       "<style scoped>\n",
       "    .dataframe tbody tr th:only-of-type {\n",
       "        vertical-align: middle;\n",
       "    }\n",
       "\n",
       "    .dataframe tbody tr th {\n",
       "        vertical-align: top;\n",
       "    }\n",
       "\n",
       "    .dataframe thead th {\n",
       "        text-align: right;\n",
       "    }\n",
       "</style>\n",
       "<table border=\"1\" class=\"dataframe\">\n",
       "  <thead>\n",
       "    <tr style=\"text-align: right;\">\n",
       "      <th></th>\n",
       "      <th>id</th>\n",
       "      <th>date</th>\n",
       "      <th>price</th>\n",
       "      <th>bedrooms</th>\n",
       "      <th>bathrooms</th>\n",
       "      <th>sqft_living</th>\n",
       "      <th>sqft_lot</th>\n",
       "      <th>floors</th>\n",
       "      <th>waterfront</th>\n",
       "      <th>view</th>\n",
       "      <th>...</th>\n",
       "      <th>grade</th>\n",
       "      <th>sqft_above</th>\n",
       "      <th>sqft_basement</th>\n",
       "      <th>yr_built</th>\n",
       "      <th>yr_renovated</th>\n",
       "      <th>zipcode</th>\n",
       "      <th>lat</th>\n",
       "      <th>long</th>\n",
       "      <th>sqft_living15</th>\n",
       "      <th>sqft_lot15</th>\n",
       "    </tr>\n",
       "  </thead>\n",
       "  <tbody>\n",
       "    <tr>\n",
       "      <td>0</td>\n",
       "      <td>7129300520</td>\n",
       "      <td>10/13/2014</td>\n",
       "      <td>221900.0</td>\n",
       "      <td>3</td>\n",
       "      <td>1.00</td>\n",
       "      <td>1180</td>\n",
       "      <td>5650</td>\n",
       "      <td>1.0</td>\n",
       "      <td>NaN</td>\n",
       "      <td>0.0</td>\n",
       "      <td>...</td>\n",
       "      <td>7</td>\n",
       "      <td>1180</td>\n",
       "      <td>0.0</td>\n",
       "      <td>1955</td>\n",
       "      <td>0.0</td>\n",
       "      <td>98178</td>\n",
       "      <td>47.5112</td>\n",
       "      <td>-122.257</td>\n",
       "      <td>1340</td>\n",
       "      <td>5650</td>\n",
       "    </tr>\n",
       "    <tr>\n",
       "      <td>1</td>\n",
       "      <td>6414100192</td>\n",
       "      <td>12/9/2014</td>\n",
       "      <td>538000.0</td>\n",
       "      <td>3</td>\n",
       "      <td>2.25</td>\n",
       "      <td>2570</td>\n",
       "      <td>7242</td>\n",
       "      <td>2.0</td>\n",
       "      <td>0.0</td>\n",
       "      <td>0.0</td>\n",
       "      <td>...</td>\n",
       "      <td>7</td>\n",
       "      <td>2170</td>\n",
       "      <td>400.0</td>\n",
       "      <td>1951</td>\n",
       "      <td>1991.0</td>\n",
       "      <td>98125</td>\n",
       "      <td>47.7210</td>\n",
       "      <td>-122.319</td>\n",
       "      <td>1690</td>\n",
       "      <td>7639</td>\n",
       "    </tr>\n",
       "    <tr>\n",
       "      <td>2</td>\n",
       "      <td>5631500400</td>\n",
       "      <td>2/25/2015</td>\n",
       "      <td>180000.0</td>\n",
       "      <td>2</td>\n",
       "      <td>1.00</td>\n",
       "      <td>770</td>\n",
       "      <td>10000</td>\n",
       "      <td>1.0</td>\n",
       "      <td>0.0</td>\n",
       "      <td>0.0</td>\n",
       "      <td>...</td>\n",
       "      <td>6</td>\n",
       "      <td>770</td>\n",
       "      <td>0.0</td>\n",
       "      <td>1933</td>\n",
       "      <td>NaN</td>\n",
       "      <td>98028</td>\n",
       "      <td>47.7379</td>\n",
       "      <td>-122.233</td>\n",
       "      <td>2720</td>\n",
       "      <td>8062</td>\n",
       "    </tr>\n",
       "    <tr>\n",
       "      <td>3</td>\n",
       "      <td>2487200875</td>\n",
       "      <td>12/9/2014</td>\n",
       "      <td>604000.0</td>\n",
       "      <td>4</td>\n",
       "      <td>3.00</td>\n",
       "      <td>1960</td>\n",
       "      <td>5000</td>\n",
       "      <td>1.0</td>\n",
       "      <td>0.0</td>\n",
       "      <td>0.0</td>\n",
       "      <td>...</td>\n",
       "      <td>7</td>\n",
       "      <td>1050</td>\n",
       "      <td>910.0</td>\n",
       "      <td>1965</td>\n",
       "      <td>0.0</td>\n",
       "      <td>98136</td>\n",
       "      <td>47.5208</td>\n",
       "      <td>-122.393</td>\n",
       "      <td>1360</td>\n",
       "      <td>5000</td>\n",
       "    </tr>\n",
       "    <tr>\n",
       "      <td>4</td>\n",
       "      <td>1954400510</td>\n",
       "      <td>2/18/2015</td>\n",
       "      <td>510000.0</td>\n",
       "      <td>3</td>\n",
       "      <td>2.00</td>\n",
       "      <td>1680</td>\n",
       "      <td>8080</td>\n",
       "      <td>1.0</td>\n",
       "      <td>0.0</td>\n",
       "      <td>0.0</td>\n",
       "      <td>...</td>\n",
       "      <td>8</td>\n",
       "      <td>1680</td>\n",
       "      <td>0.0</td>\n",
       "      <td>1987</td>\n",
       "      <td>0.0</td>\n",
       "      <td>98074</td>\n",
       "      <td>47.6168</td>\n",
       "      <td>-122.045</td>\n",
       "      <td>1800</td>\n",
       "      <td>7503</td>\n",
       "    </tr>\n",
       "  </tbody>\n",
       "</table>\n",
       "<p>5 rows × 21 columns</p>\n",
       "</div>"
      ],
      "text/plain": [
       "           id        date     price  bedrooms  bathrooms  sqft_living  \\\n",
       "0  7129300520  10/13/2014  221900.0         3       1.00         1180   \n",
       "1  6414100192   12/9/2014  538000.0         3       2.25         2570   \n",
       "2  5631500400   2/25/2015  180000.0         2       1.00          770   \n",
       "3  2487200875   12/9/2014  604000.0         4       3.00         1960   \n",
       "4  1954400510   2/18/2015  510000.0         3       2.00         1680   \n",
       "\n",
       "   sqft_lot  floors  waterfront  view  ...  grade  sqft_above  sqft_basement  \\\n",
       "0      5650     1.0         NaN   0.0  ...      7        1180            0.0   \n",
       "1      7242     2.0         0.0   0.0  ...      7        2170          400.0   \n",
       "2     10000     1.0         0.0   0.0  ...      6         770            0.0   \n",
       "3      5000     1.0         0.0   0.0  ...      7        1050          910.0   \n",
       "4      8080     1.0         0.0   0.0  ...      8        1680            0.0   \n",
       "\n",
       "  yr_built  yr_renovated  zipcode      lat     long  sqft_living15  sqft_lot15  \n",
       "0     1955           0.0    98178  47.5112 -122.257           1340        5650  \n",
       "1     1951        1991.0    98125  47.7210 -122.319           1690        7639  \n",
       "2     1933           NaN    98028  47.7379 -122.233           2720        8062  \n",
       "3     1965           0.0    98136  47.5208 -122.393           1360        5000  \n",
       "4     1987           0.0    98074  47.6168 -122.045           1800        7503  \n",
       "\n",
       "[5 rows x 21 columns]"
      ]
     },
     "execution_count": 2,
     "metadata": {},
     "output_type": "execute_result"
    }
   ],
   "source": [
    "# import data and ensure it loaded in properly\n",
    "df = pd.read_csv('kc_house_data.csv')\n",
    "df.head()\n"
   ]
  },
  {
   "cell_type": "markdown",
   "metadata": {},
   "source": [
    "### Column Names and descriptions for Kings County Data Set\n",
    "* **id** - unique identified for a house\n",
    "* **date** - Date house was sold\n",
    "* **price** -  price prediction target\n",
    "* **bedrooms** -  number of Bedrooms in the House\n",
    "* **bathrooms** -  number of bathrooms\n",
    "* **sqft_living** -  square footage of the home\n",
    "* **sqft_lot** -  square footage of the lot\n",
    "* **floors** -  total floors (levels) in house\n",
    "* **waterfront** - House which has a view to a waterfront\n",
    "* **view** - Has been viewed\n",
    "* **condition** - How good the condition is ( Overall )\n",
    "* **grade** - overall grade given to the housing unit, based on King County grading system\n",
    "* **sqft_above** - square footage of house apart from basement\n",
    "* **sqft_basement** - square footage of the basement\n",
    "* **yr_built** - Built Year\n",
    "* **yr_renovated** - Year when house was renovated\n",
    "* **yrs_since_reno** - Number of years since renovated, if not renovated years since built\n",
    "* **zipcode** - zip\n",
    "* **subregion** - the subregion that the zipcode falls under\n",
    "* **lat** - Latitude coordinate\n",
    "* **long** - Longitude coordinate\n",
    "* **sqft_living15** - The square footage of interior housing living space for the nearest 15 neighbors\n",
    "* **sqft_lot15** - The square footage of the land lots of the nearest 15 neighbors"
   ]
  },
  {
   "cell_type": "markdown",
   "metadata": {},
   "source": [
    "### Initial examination of data"
   ]
  },
  {
   "cell_type": "code",
   "execution_count": 3,
   "metadata": {},
   "outputs": [
    {
     "name": "stdout",
     "output_type": "stream",
     "text": [
      "<class 'pandas.core.frame.DataFrame'>\n",
      "RangeIndex: 21597 entries, 0 to 21596\n",
      "Data columns (total 21 columns):\n",
      "id               21597 non-null int64\n",
      "date             21597 non-null object\n",
      "price            21597 non-null float64\n",
      "bedrooms         21597 non-null int64\n",
      "bathrooms        21597 non-null float64\n",
      "sqft_living      21597 non-null int64\n",
      "sqft_lot         21597 non-null int64\n",
      "floors           21597 non-null float64\n",
      "waterfront       19221 non-null float64\n",
      "view             21534 non-null float64\n",
      "condition        21597 non-null int64\n",
      "grade            21597 non-null int64\n",
      "sqft_above       21597 non-null int64\n",
      "sqft_basement    21597 non-null object\n",
      "yr_built         21597 non-null int64\n",
      "yr_renovated     17755 non-null float64\n",
      "zipcode          21597 non-null int64\n",
      "lat              21597 non-null float64\n",
      "long             21597 non-null float64\n",
      "sqft_living15    21597 non-null int64\n",
      "sqft_lot15       21597 non-null int64\n",
      "dtypes: float64(8), int64(11), object(2)\n",
      "memory usage: 3.5+ MB\n"
     ]
    }
   ],
   "source": [
    "# See if there is anything that stands outs that we will need to deal with in\n",
    "# scrubbing the data\n",
    "df.info()"
   ]
  },
  {
   "cell_type": "code",
   "execution_count": 4,
   "metadata": {},
   "outputs": [
    {
     "data": {
      "text/html": [
       "<div>\n",
       "<style scoped>\n",
       "    .dataframe tbody tr th:only-of-type {\n",
       "        vertical-align: middle;\n",
       "    }\n",
       "\n",
       "    .dataframe tbody tr th {\n",
       "        vertical-align: top;\n",
       "    }\n",
       "\n",
       "    .dataframe thead th {\n",
       "        text-align: right;\n",
       "    }\n",
       "</style>\n",
       "<table border=\"1\" class=\"dataframe\">\n",
       "  <thead>\n",
       "    <tr style=\"text-align: right;\">\n",
       "      <th></th>\n",
       "      <th>id</th>\n",
       "      <th>price</th>\n",
       "      <th>bedrooms</th>\n",
       "      <th>bathrooms</th>\n",
       "      <th>sqft_living</th>\n",
       "      <th>sqft_lot</th>\n",
       "      <th>floors</th>\n",
       "      <th>waterfront</th>\n",
       "      <th>view</th>\n",
       "      <th>condition</th>\n",
       "      <th>grade</th>\n",
       "      <th>sqft_above</th>\n",
       "      <th>yr_built</th>\n",
       "      <th>yr_renovated</th>\n",
       "      <th>zipcode</th>\n",
       "      <th>lat</th>\n",
       "      <th>long</th>\n",
       "      <th>sqft_living15</th>\n",
       "      <th>sqft_lot15</th>\n",
       "    </tr>\n",
       "  </thead>\n",
       "  <tbody>\n",
       "    <tr>\n",
       "      <td>count</td>\n",
       "      <td>2.159700e+04</td>\n",
       "      <td>2.159700e+04</td>\n",
       "      <td>21597.000000</td>\n",
       "      <td>21597.000000</td>\n",
       "      <td>21597.000000</td>\n",
       "      <td>2.159700e+04</td>\n",
       "      <td>21597.000000</td>\n",
       "      <td>19221.000000</td>\n",
       "      <td>21534.000000</td>\n",
       "      <td>21597.000000</td>\n",
       "      <td>21597.000000</td>\n",
       "      <td>21597.000000</td>\n",
       "      <td>21597.000000</td>\n",
       "      <td>17755.000000</td>\n",
       "      <td>21597.000000</td>\n",
       "      <td>21597.000000</td>\n",
       "      <td>21597.000000</td>\n",
       "      <td>21597.000000</td>\n",
       "      <td>21597.000000</td>\n",
       "    </tr>\n",
       "    <tr>\n",
       "      <td>mean</td>\n",
       "      <td>4.580474e+09</td>\n",
       "      <td>5.402966e+05</td>\n",
       "      <td>3.373200</td>\n",
       "      <td>2.115826</td>\n",
       "      <td>2080.321850</td>\n",
       "      <td>1.509941e+04</td>\n",
       "      <td>1.494096</td>\n",
       "      <td>0.007596</td>\n",
       "      <td>0.233863</td>\n",
       "      <td>3.409825</td>\n",
       "      <td>7.657915</td>\n",
       "      <td>1788.596842</td>\n",
       "      <td>1970.999676</td>\n",
       "      <td>83.636778</td>\n",
       "      <td>98077.951845</td>\n",
       "      <td>47.560093</td>\n",
       "      <td>-122.213982</td>\n",
       "      <td>1986.620318</td>\n",
       "      <td>12758.283512</td>\n",
       "    </tr>\n",
       "    <tr>\n",
       "      <td>std</td>\n",
       "      <td>2.876736e+09</td>\n",
       "      <td>3.673681e+05</td>\n",
       "      <td>0.926299</td>\n",
       "      <td>0.768984</td>\n",
       "      <td>918.106125</td>\n",
       "      <td>4.141264e+04</td>\n",
       "      <td>0.539683</td>\n",
       "      <td>0.086825</td>\n",
       "      <td>0.765686</td>\n",
       "      <td>0.650546</td>\n",
       "      <td>1.173200</td>\n",
       "      <td>827.759761</td>\n",
       "      <td>29.375234</td>\n",
       "      <td>399.946414</td>\n",
       "      <td>53.513072</td>\n",
       "      <td>0.138552</td>\n",
       "      <td>0.140724</td>\n",
       "      <td>685.230472</td>\n",
       "      <td>27274.441950</td>\n",
       "    </tr>\n",
       "    <tr>\n",
       "      <td>min</td>\n",
       "      <td>1.000102e+06</td>\n",
       "      <td>7.800000e+04</td>\n",
       "      <td>1.000000</td>\n",
       "      <td>0.500000</td>\n",
       "      <td>370.000000</td>\n",
       "      <td>5.200000e+02</td>\n",
       "      <td>1.000000</td>\n",
       "      <td>0.000000</td>\n",
       "      <td>0.000000</td>\n",
       "      <td>1.000000</td>\n",
       "      <td>3.000000</td>\n",
       "      <td>370.000000</td>\n",
       "      <td>1900.000000</td>\n",
       "      <td>0.000000</td>\n",
       "      <td>98001.000000</td>\n",
       "      <td>47.155900</td>\n",
       "      <td>-122.519000</td>\n",
       "      <td>399.000000</td>\n",
       "      <td>651.000000</td>\n",
       "    </tr>\n",
       "    <tr>\n",
       "      <td>25%</td>\n",
       "      <td>2.123049e+09</td>\n",
       "      <td>3.220000e+05</td>\n",
       "      <td>3.000000</td>\n",
       "      <td>1.750000</td>\n",
       "      <td>1430.000000</td>\n",
       "      <td>5.040000e+03</td>\n",
       "      <td>1.000000</td>\n",
       "      <td>0.000000</td>\n",
       "      <td>0.000000</td>\n",
       "      <td>3.000000</td>\n",
       "      <td>7.000000</td>\n",
       "      <td>1190.000000</td>\n",
       "      <td>1951.000000</td>\n",
       "      <td>0.000000</td>\n",
       "      <td>98033.000000</td>\n",
       "      <td>47.471100</td>\n",
       "      <td>-122.328000</td>\n",
       "      <td>1490.000000</td>\n",
       "      <td>5100.000000</td>\n",
       "    </tr>\n",
       "    <tr>\n",
       "      <td>50%</td>\n",
       "      <td>3.904930e+09</td>\n",
       "      <td>4.500000e+05</td>\n",
       "      <td>3.000000</td>\n",
       "      <td>2.250000</td>\n",
       "      <td>1910.000000</td>\n",
       "      <td>7.618000e+03</td>\n",
       "      <td>1.500000</td>\n",
       "      <td>0.000000</td>\n",
       "      <td>0.000000</td>\n",
       "      <td>3.000000</td>\n",
       "      <td>7.000000</td>\n",
       "      <td>1560.000000</td>\n",
       "      <td>1975.000000</td>\n",
       "      <td>0.000000</td>\n",
       "      <td>98065.000000</td>\n",
       "      <td>47.571800</td>\n",
       "      <td>-122.231000</td>\n",
       "      <td>1840.000000</td>\n",
       "      <td>7620.000000</td>\n",
       "    </tr>\n",
       "    <tr>\n",
       "      <td>75%</td>\n",
       "      <td>7.308900e+09</td>\n",
       "      <td>6.450000e+05</td>\n",
       "      <td>4.000000</td>\n",
       "      <td>2.500000</td>\n",
       "      <td>2550.000000</td>\n",
       "      <td>1.068500e+04</td>\n",
       "      <td>2.000000</td>\n",
       "      <td>0.000000</td>\n",
       "      <td>0.000000</td>\n",
       "      <td>4.000000</td>\n",
       "      <td>8.000000</td>\n",
       "      <td>2210.000000</td>\n",
       "      <td>1997.000000</td>\n",
       "      <td>0.000000</td>\n",
       "      <td>98118.000000</td>\n",
       "      <td>47.678000</td>\n",
       "      <td>-122.125000</td>\n",
       "      <td>2360.000000</td>\n",
       "      <td>10083.000000</td>\n",
       "    </tr>\n",
       "    <tr>\n",
       "      <td>max</td>\n",
       "      <td>9.900000e+09</td>\n",
       "      <td>7.700000e+06</td>\n",
       "      <td>33.000000</td>\n",
       "      <td>8.000000</td>\n",
       "      <td>13540.000000</td>\n",
       "      <td>1.651359e+06</td>\n",
       "      <td>3.500000</td>\n",
       "      <td>1.000000</td>\n",
       "      <td>4.000000</td>\n",
       "      <td>5.000000</td>\n",
       "      <td>13.000000</td>\n",
       "      <td>9410.000000</td>\n",
       "      <td>2015.000000</td>\n",
       "      <td>2015.000000</td>\n",
       "      <td>98199.000000</td>\n",
       "      <td>47.777600</td>\n",
       "      <td>-121.315000</td>\n",
       "      <td>6210.000000</td>\n",
       "      <td>871200.000000</td>\n",
       "    </tr>\n",
       "  </tbody>\n",
       "</table>\n",
       "</div>"
      ],
      "text/plain": [
       "                 id         price      bedrooms     bathrooms   sqft_living  \\\n",
       "count  2.159700e+04  2.159700e+04  21597.000000  21597.000000  21597.000000   \n",
       "mean   4.580474e+09  5.402966e+05      3.373200      2.115826   2080.321850   \n",
       "std    2.876736e+09  3.673681e+05      0.926299      0.768984    918.106125   \n",
       "min    1.000102e+06  7.800000e+04      1.000000      0.500000    370.000000   \n",
       "25%    2.123049e+09  3.220000e+05      3.000000      1.750000   1430.000000   \n",
       "50%    3.904930e+09  4.500000e+05      3.000000      2.250000   1910.000000   \n",
       "75%    7.308900e+09  6.450000e+05      4.000000      2.500000   2550.000000   \n",
       "max    9.900000e+09  7.700000e+06     33.000000      8.000000  13540.000000   \n",
       "\n",
       "           sqft_lot        floors    waterfront          view     condition  \\\n",
       "count  2.159700e+04  21597.000000  19221.000000  21534.000000  21597.000000   \n",
       "mean   1.509941e+04      1.494096      0.007596      0.233863      3.409825   \n",
       "std    4.141264e+04      0.539683      0.086825      0.765686      0.650546   \n",
       "min    5.200000e+02      1.000000      0.000000      0.000000      1.000000   \n",
       "25%    5.040000e+03      1.000000      0.000000      0.000000      3.000000   \n",
       "50%    7.618000e+03      1.500000      0.000000      0.000000      3.000000   \n",
       "75%    1.068500e+04      2.000000      0.000000      0.000000      4.000000   \n",
       "max    1.651359e+06      3.500000      1.000000      4.000000      5.000000   \n",
       "\n",
       "              grade    sqft_above      yr_built  yr_renovated       zipcode  \\\n",
       "count  21597.000000  21597.000000  21597.000000  17755.000000  21597.000000   \n",
       "mean       7.657915   1788.596842   1970.999676     83.636778  98077.951845   \n",
       "std        1.173200    827.759761     29.375234    399.946414     53.513072   \n",
       "min        3.000000    370.000000   1900.000000      0.000000  98001.000000   \n",
       "25%        7.000000   1190.000000   1951.000000      0.000000  98033.000000   \n",
       "50%        7.000000   1560.000000   1975.000000      0.000000  98065.000000   \n",
       "75%        8.000000   2210.000000   1997.000000      0.000000  98118.000000   \n",
       "max       13.000000   9410.000000   2015.000000   2015.000000  98199.000000   \n",
       "\n",
       "                lat          long  sqft_living15     sqft_lot15  \n",
       "count  21597.000000  21597.000000   21597.000000   21597.000000  \n",
       "mean      47.560093   -122.213982    1986.620318   12758.283512  \n",
       "std        0.138552      0.140724     685.230472   27274.441950  \n",
       "min       47.155900   -122.519000     399.000000     651.000000  \n",
       "25%       47.471100   -122.328000    1490.000000    5100.000000  \n",
       "50%       47.571800   -122.231000    1840.000000    7620.000000  \n",
       "75%       47.678000   -122.125000    2360.000000   10083.000000  \n",
       "max       47.777600   -121.315000    6210.000000  871200.000000  "
      ]
     },
     "execution_count": 4,
     "metadata": {},
     "output_type": "execute_result"
    }
   ],
   "source": [
    "# See if there are any unusual max/mins which would give us an idea if there \n",
    "# are place holder values\n",
    "df.describe()"
   ]
  },
  {
   "cell_type": "markdown",
   "metadata": {},
   "source": [
    "## Initial Scrubbing"
   ]
  },
  {
   "cell_type": "markdown",
   "metadata": {},
   "source": [
    "### Looking at individual columns"
   ]
  },
  {
   "cell_type": "markdown",
   "metadata": {},
   "source": [
    "#### id"
   ]
  },
  {
   "cell_type": "code",
   "execution_count": 5,
   "metadata": {},
   "outputs": [],
   "source": [
    "# Drop, since will not add any useful information to the model\n",
    "df.drop(columns=['id'],axis=1, inplace=True)"
   ]
  },
  {
   "cell_type": "markdown",
   "metadata": {},
   "source": [
    "#### Date"
   ]
  },
  {
   "cell_type": "code",
   "execution_count": 6,
   "metadata": {},
   "outputs": [
    {
     "data": {
      "text/plain": [
       "count                   21597\n",
       "unique                    372\n",
       "top       2014-06-23 00:00:00\n",
       "freq                      142\n",
       "first     2014-05-02 00:00:00\n",
       "last      2015-05-27 00:00:00\n",
       "Name: date, dtype: object"
      ]
     },
     "execution_count": 6,
     "metadata": {},
     "output_type": "execute_result"
    }
   ],
   "source": [
    "# Change to date-time\n",
    "df['date'] = pd.to_datetime(df['date'])\n",
    "df['date'].describe()"
   ]
  },
  {
   "cell_type": "markdown",
   "metadata": {},
   "source": [
    "#### Price"
   ]
  },
  {
   "cell_type": "code",
   "execution_count": 7,
   "metadata": {},
   "outputs": [
    {
     "data": {
      "text/plain": [
       "count    2.159700e+04\n",
       "mean     5.402966e+05\n",
       "std      3.673681e+05\n",
       "min      7.800000e+04\n",
       "25%      3.220000e+05\n",
       "50%      4.500000e+05\n",
       "75%      6.450000e+05\n",
       "max      7.700000e+06\n",
       "Name: price, dtype: float64"
      ]
     },
     "execution_count": 7,
     "metadata": {},
     "output_type": "execute_result"
    }
   ],
   "source": [
    "# What we will be running the model against\n",
    "df['price'].describe()"
   ]
  },
  {
   "cell_type": "markdown",
   "metadata": {},
   "source": [
    "#### Bedroom and Bathroom number"
   ]
  },
  {
   "cell_type": "code",
   "execution_count": 8,
   "metadata": {},
   "outputs": [
    {
     "data": {
      "text/plain": [
       "count    21597.000000\n",
       "mean         3.373200\n",
       "std          0.926299\n",
       "min          1.000000\n",
       "25%          3.000000\n",
       "50%          3.000000\n",
       "75%          4.000000\n",
       "max         33.000000\n",
       "Name: bedrooms, dtype: float64"
      ]
     },
     "execution_count": 8,
     "metadata": {},
     "output_type": "execute_result"
    }
   ],
   "source": [
    "# Looking at Bedrooms to make sure there aren't any hidden nulls or place holders\n",
    "df['bedrooms'].describe()"
   ]
  },
  {
   "cell_type": "code",
   "execution_count": 9,
   "metadata": {},
   "outputs": [
    {
     "data": {
      "text/plain": [
       "array([ 3,  2,  4,  5,  1,  6,  7,  8,  9, 11, 10, 33])"
      ]
     },
     "execution_count": 9,
     "metadata": {},
     "output_type": "execute_result"
    }
   ],
   "source": [
    "df['bedrooms'].unique()"
   ]
  },
  {
   "cell_type": "code",
   "execution_count": 10,
   "metadata": {},
   "outputs": [],
   "source": [
    "df.drop(df[df['bedrooms'] == 33 ].index , inplace=True)"
   ]
  },
  {
   "cell_type": "code",
   "execution_count": 11,
   "metadata": {},
   "outputs": [
    {
     "data": {
      "text/plain": [
       "count    21596.000000\n",
       "mean         2.115843\n",
       "std          0.768998\n",
       "min          0.500000\n",
       "25%          1.750000\n",
       "50%          2.250000\n",
       "75%          2.500000\n",
       "max          8.000000\n",
       "Name: bathrooms, dtype: float64"
      ]
     },
     "execution_count": 11,
     "metadata": {},
     "output_type": "execute_result"
    }
   ],
   "source": [
    "# Looking at bathrooms to make sure there aren't any hidden nulls or place holders\n",
    "df['bathrooms'].describe()"
   ]
  },
  {
   "cell_type": "code",
   "execution_count": 12,
   "metadata": {},
   "outputs": [
    {
     "data": {
      "text/plain": [
       "array([1.  , 2.25, 3.  , 2.  , 4.5 , 1.5 , 2.5 , 1.75, 2.75, 3.25, 4.  ,\n",
       "       3.5 , 0.75, 4.75, 5.  , 4.25, 3.75, 1.25, 5.25, 6.  , 0.5 , 5.5 ,\n",
       "       6.75, 5.75, 8.  , 7.5 , 7.75, 6.25, 6.5 ])"
      ]
     },
     "execution_count": 12,
     "metadata": {},
     "output_type": "execute_result"
    }
   ],
   "source": [
    "df['bathrooms'].unique()"
   ]
  },
  {
   "cell_type": "markdown",
   "metadata": {},
   "source": [
    "#### sqft_living, sqft_lots, floors"
   ]
  },
  {
   "cell_type": "code",
   "execution_count": 13,
   "metadata": {},
   "outputs": [
    {
     "name": "stdout",
     "output_type": "stream",
     "text": [
      "count    21596.000000\n",
      "mean      2080.343165\n",
      "std        918.122038\n",
      "min        370.000000\n",
      "25%       1430.000000\n",
      "50%       1910.000000\n",
      "75%       2550.000000\n",
      "max      13540.000000\n",
      "Name: sqft_living, dtype: float64\n",
      "Null values: 0\n"
     ]
    }
   ],
   "source": [
    "# Looking at sqft_living to make sure there aren't any hidden nulls or place holders\n",
    "print(df['sqft_living'].describe())\n",
    "print('Null values:', df['sqft_living'].isnull().sum())"
   ]
  },
  {
   "cell_type": "code",
   "execution_count": 14,
   "metadata": {},
   "outputs": [
    {
     "name": "stdout",
     "output_type": "stream",
     "text": [
      "count    2.159600e+04\n",
      "mean     1.509983e+04\n",
      "std      4.141355e+04\n",
      "min      5.200000e+02\n",
      "25%      5.040000e+03\n",
      "50%      7.619000e+03\n",
      "75%      1.068550e+04\n",
      "max      1.651359e+06\n",
      "Name: sqft_lot, dtype: float64\n",
      "Null values: 0\n"
     ]
    }
   ],
   "source": [
    "# Looking at sqft_lot to make sure there aren't any hidden nulls or place holders\n",
    "print(df['sqft_lot'].describe())\n",
    "print('Null values:', df['sqft_lot'].isnull().sum())"
   ]
  },
  {
   "cell_type": "markdown",
   "metadata": {},
   "source": []
  },
  {
   "cell_type": "code",
   "execution_count": 15,
   "metadata": {},
   "outputs": [
    {
     "name": "stdout",
     "output_type": "stream",
     "text": [
      "count    21596.000000\n",
      "mean         1.494119\n",
      "std          0.539685\n",
      "min          1.000000\n",
      "25%          1.000000\n",
      "50%          1.500000\n",
      "75%          2.000000\n",
      "max          3.500000\n",
      "Name: floors, dtype: float64\n",
      "Null values: 0\n"
     ]
    }
   ],
   "source": [
    "# Looking at sqft_lot to make sure there aren't any hidden nulls or place holders\n",
    "print(df['floors'].describe())\n",
    "print('Null values:', df['floors'].isnull().sum())"
   ]
  },
  {
   "cell_type": "markdown",
   "metadata": {},
   "source": [
    "#### Waterfront"
   ]
  },
  {
   "cell_type": "code",
   "execution_count": 16,
   "metadata": {},
   "outputs": [
    {
     "data": {
      "text/plain": [
       "array([nan,  0.,  1.])"
      ]
     },
     "execution_count": 16,
     "metadata": {},
     "output_type": "execute_result"
    }
   ],
   "source": [
    "# Check for null values\n",
    "df['waterfront'].unique()"
   ]
  },
  {
   "cell_type": "code",
   "execution_count": 17,
   "metadata": {
    "scrolled": true
   },
   "outputs": [],
   "source": [
    "# Assume that if it isn't reported, it does not have a waterfront view\n",
    "df['waterfront'] = df['waterfront'].fillna(0)"
   ]
  },
  {
   "cell_type": "code",
   "execution_count": 18,
   "metadata": {},
   "outputs": [
    {
     "name": "stdout",
     "output_type": "stream",
     "text": [
      "Null values: 0\n"
     ]
    }
   ],
   "source": [
    "# check again to ensure no nulls\n",
    "print('Null values:', df['waterfront'].isnull().sum())"
   ]
  },
  {
   "cell_type": "markdown",
   "metadata": {},
   "source": [
    "#### View, Condition, and Grade"
   ]
  },
  {
   "cell_type": "code",
   "execution_count": 19,
   "metadata": {},
   "outputs": [
    {
     "name": "stdout",
     "output_type": "stream",
     "text": [
      "Null values: 63\n"
     ]
    },
    {
     "data": {
      "text/plain": [
       "array([ 0., nan,  3.,  4.,  2.,  1.])"
      ]
     },
     "execution_count": 19,
     "metadata": {},
     "output_type": "execute_result"
    }
   ],
   "source": [
    "# Check for null and place holders\n",
    "print('Null values:', df['view'].isnull().sum())\n",
    "df['view'].unique()"
   ]
  },
  {
   "cell_type": "code",
   "execution_count": 20,
   "metadata": {},
   "outputs": [],
   "source": [
    "# Replace null with 0\n",
    "df['view'] = df['view'].fillna(0)"
   ]
  },
  {
   "cell_type": "code",
   "execution_count": 21,
   "metadata": {},
   "outputs": [
    {
     "name": "stdout",
     "output_type": "stream",
     "text": [
      "Null values: 0\n"
     ]
    },
    {
     "data": {
      "text/plain": [
       "array([0., 3., 4., 2., 1.])"
      ]
     },
     "execution_count": 21,
     "metadata": {},
     "output_type": "execute_result"
    }
   ],
   "source": [
    "# check again to ensure no nulls\n",
    "print('Null values:', df['view'].isnull().sum())\n",
    "df['view'].unique()"
   ]
  },
  {
   "cell_type": "code",
   "execution_count": 22,
   "metadata": {},
   "outputs": [
    {
     "name": "stdout",
     "output_type": "stream",
     "text": [
      "Null values: 0\n"
     ]
    },
    {
     "data": {
      "text/plain": [
       "array([3, 5, 4, 1, 2])"
      ]
     },
     "execution_count": 22,
     "metadata": {},
     "output_type": "execute_result"
    }
   ],
   "source": [
    "# Check for null and place holders\n",
    "print('Null values:', df['condition'].isnull().sum())\n",
    "df['condition'].unique()"
   ]
  },
  {
   "cell_type": "code",
   "execution_count": 23,
   "metadata": {},
   "outputs": [
    {
     "name": "stdout",
     "output_type": "stream",
     "text": [
      "Null values: 0\n"
     ]
    },
    {
     "data": {
      "text/plain": [
       "array([ 7,  6,  8, 11,  9,  5, 10, 12,  4,  3, 13])"
      ]
     },
     "execution_count": 23,
     "metadata": {},
     "output_type": "execute_result"
    }
   ],
   "source": [
    "# Check for null and place holders\n",
    "print('Null values:', df['grade'].isnull().sum())\n",
    "df['grade'].unique()"
   ]
  },
  {
   "cell_type": "markdown",
   "metadata": {},
   "source": [
    "#### sqft_above and sqft_basement"
   ]
  },
  {
   "cell_type": "code",
   "execution_count": 24,
   "metadata": {},
   "outputs": [
    {
     "name": "stdout",
     "output_type": "stream",
     "text": [
      "Null values: 0\n"
     ]
    },
    {
     "data": {
      "text/plain": [
       "count    21596.000000\n",
       "mean      1788.631506\n",
       "std        827.763251\n",
       "min        370.000000\n",
       "25%       1190.000000\n",
       "50%       1560.000000\n",
       "75%       2210.000000\n",
       "max       9410.000000\n",
       "Name: sqft_above, dtype: float64"
      ]
     },
     "execution_count": 24,
     "metadata": {},
     "output_type": "execute_result"
    }
   ],
   "source": [
    "# Check for null and place holders\n",
    "print('Null values:', df['sqft_above'].isnull().sum())\n",
    "df['sqft_above'].describe()"
   ]
  },
  {
   "cell_type": "code",
   "execution_count": 25,
   "metadata": {},
   "outputs": [
    {
     "name": "stdout",
     "output_type": "stream",
     "text": [
      "Null values: 0\n"
     ]
    },
    {
     "data": {
      "text/plain": [
       "count     21596\n",
       "unique      304\n",
       "top         0.0\n",
       "freq      12826\n",
       "Name: sqft_basement, dtype: object"
      ]
     },
     "execution_count": 25,
     "metadata": {},
     "output_type": "execute_result"
    }
   ],
   "source": [
    "# Check for nulls and place holders\n",
    "print('Null values:', df['sqft_basement'].isnull().sum())\n",
    "df['sqft_basement'].describe()"
   ]
  },
  {
   "cell_type": "code",
   "execution_count": 26,
   "metadata": {},
   "outputs": [],
   "source": [
    "# There was an error when attempted to convert to float, so we know there is a place holder '?'"
   ]
  },
  {
   "cell_type": "code",
   "execution_count": 27,
   "metadata": {},
   "outputs": [],
   "source": [
    "# We know sqft_living and sqft_above do not have any null or place holders so if we \n",
    "# subtract them, we should get the sqft_basement for all properties\n",
    "df['sqft_basement'] = df['sqft_living'] - df['sqft_above']"
   ]
  },
  {
   "cell_type": "code",
   "execution_count": 28,
   "metadata": {},
   "outputs": [
    {
     "name": "stdout",
     "output_type": "stream",
     "text": [
      "Null values: 0\n"
     ]
    },
    {
     "data": {
      "text/plain": [
       "count    21596.000000\n",
       "mean       291.711660\n",
       "std        442.673703\n",
       "min          0.000000\n",
       "25%          0.000000\n",
       "50%          0.000000\n",
       "75%        560.000000\n",
       "max       4820.000000\n",
       "Name: sqft_basement, dtype: float64"
      ]
     },
     "execution_count": 28,
     "metadata": {},
     "output_type": "execute_result"
    }
   ],
   "source": [
    "# Check to ensure it worked\n",
    "print('Null values:', df['sqft_basement'].isnull().sum())\n",
    "df['sqft_basement'].describe()"
   ]
  },
  {
   "cell_type": "markdown",
   "metadata": {},
   "source": [
    "#### Year Built"
   ]
  },
  {
   "cell_type": "code",
   "execution_count": 29,
   "metadata": {},
   "outputs": [
    {
     "name": "stdout",
     "output_type": "stream",
     "text": [
      "Null values: 0\n"
     ]
    },
    {
     "data": {
      "text/plain": [
       "count    21596.000000\n",
       "mean      1971.000787\n",
       "std         29.375460\n",
       "min       1900.000000\n",
       "25%       1951.000000\n",
       "50%       1975.000000\n",
       "75%       1997.000000\n",
       "max       2015.000000\n",
       "Name: yr_built, dtype: float64"
      ]
     },
     "execution_count": 29,
     "metadata": {},
     "output_type": "execute_result"
    }
   ],
   "source": [
    "# Check for nulls and place holders\n",
    "print('Null values:', df['yr_built'].isnull().sum())\n",
    "df['yr_built'].describe()"
   ]
  },
  {
   "cell_type": "markdown",
   "metadata": {},
   "source": [
    "#### Year Renovated"
   ]
  },
  {
   "cell_type": "code",
   "execution_count": 30,
   "metadata": {},
   "outputs": [
    {
     "name": "stdout",
     "output_type": "stream",
     "text": [
      "Null values: 3842\n"
     ]
    },
    {
     "data": {
      "text/plain": [
       "count    17754.000000\n",
       "mean        83.641489\n",
       "std        399.957185\n",
       "min          0.000000\n",
       "25%          0.000000\n",
       "50%          0.000000\n",
       "75%          0.000000\n",
       "max       2015.000000\n",
       "Name: yr_renovated, dtype: float64"
      ]
     },
     "execution_count": 30,
     "metadata": {},
     "output_type": "execute_result"
    }
   ],
   "source": [
    "# Check for nulls and place holders\n",
    "print('Null values:', df['yr_renovated'].isnull().sum())\n",
    "df['yr_renovated'].describe()"
   ]
  },
  {
   "cell_type": "code",
   "execution_count": 31,
   "metadata": {},
   "outputs": [],
   "source": [
    "# Fill the null values with zeroes\n",
    "df['yr_renovated'] = df['yr_renovated'].fillna(0)"
   ]
  },
  {
   "cell_type": "code",
   "execution_count": 32,
   "metadata": {},
   "outputs": [
    {
     "name": "stdout",
     "output_type": "stream",
     "text": [
      "Null values: 0\n"
     ]
    }
   ],
   "source": [
    "# Check for nulls again\n",
    "print('Null values:', df['yr_renovated'].isnull().sum())"
   ]
  },
  {
   "cell_type": "code",
   "execution_count": 33,
   "metadata": {},
   "outputs": [],
   "source": [
    "# create a temp column to calculate years since renovation\n",
    "df['temp'] = df['yr_renovated'].replace(to_replace=0, value=df['yr_built'])\n"
   ]
  },
  {
   "cell_type": "code",
   "execution_count": 34,
   "metadata": {},
   "outputs": [
    {
     "data": {
      "text/plain": [
       "0        65.0\n",
       "1        29.0\n",
       "2        87.0\n",
       "3        55.0\n",
       "4        33.0\n",
       "         ... \n",
       "21592    11.0\n",
       "21593     6.0\n",
       "21594    11.0\n",
       "21595    16.0\n",
       "21596    12.0\n",
       "Name: yrs_since_reno, Length: 21596, dtype: float64"
      ]
     },
     "execution_count": 34,
     "metadata": {},
     "output_type": "execute_result"
    }
   ],
   "source": [
    "# Calculate years since the house had work done on it\n",
    "df['yrs_since_reno'] = 2020 - df['temp']\n",
    "df['yrs_since_reno']"
   ]
  },
  {
   "cell_type": "code",
   "execution_count": 35,
   "metadata": {},
   "outputs": [],
   "source": [
    "# Drop temp\n",
    "df.drop(columns=['temp'],axis=1, inplace=True)"
   ]
  },
  {
   "cell_type": "markdown",
   "metadata": {},
   "source": [
    "#### Drop Lat/long\n"
   ]
  },
  {
   "cell_type": "code",
   "execution_count": 36,
   "metadata": {},
   "outputs": [],
   "source": [
    "df.drop(columns=['lat','long'],axis=1, inplace=True)"
   ]
  },
  {
   "cell_type": "code",
   "execution_count": 37,
   "metadata": {},
   "outputs": [
    {
     "data": {
      "text/plain": [
       "Index(['date', 'price', 'bedrooms', 'bathrooms', 'sqft_living', 'sqft_lot',\n",
       "       'floors', 'waterfront', 'view', 'condition', 'grade', 'sqft_above',\n",
       "       'sqft_basement', 'yr_built', 'yr_renovated', 'zipcode', 'sqft_living15',\n",
       "       'sqft_lot15', 'yrs_since_reno'],\n",
       "      dtype='object')"
      ]
     },
     "execution_count": 37,
     "metadata": {},
     "output_type": "execute_result"
    }
   ],
   "source": [
    "df.columns"
   ]
  },
  {
   "cell_type": "markdown",
   "metadata": {},
   "source": [
    "#### Zipecodes"
   ]
  },
  {
   "cell_type": "code",
   "execution_count": 38,
   "metadata": {},
   "outputs": [],
   "source": [
    "subregion_dict = {'south_urban': [98001, 98002, 98003, 98023, 98030, 98031, 98032, 98042, \n",
    "                                 98055, 98056, 98058, 98092, 98148, 98166, 98168, 98178, 98188,\n",
    "                                 98198], \n",
    "                 'east_urban' : [98004, 98005, 98006, 98007, 98008, 98009, 98027, 98029, \n",
    "                                 98033, 98034, 98039, 98040, 98052, 98053, 98059, 98074, \n",
    "                                98075, 98077],\n",
    "                 'south_rural' : [98010, 98022, 98038],\n",
    "                 'north' : [98011, 98028, 98072, 98155],\n",
    "                 'east_rural' : [98014, 98019, 98024, 98045, 98065],\n",
    "                 'vashon_island' : [98070], \n",
    "                 'seattle' : [98102, 98103, 98105, 98106, 98107, 98108, 98109, 98112, 98115,\n",
    "                             98116, 98117, 98118, 98119, 98122, 98125, 98126, 98136, 98144, 98199], \n",
    "                 'north_and_seattle' : [98133, 98177], \n",
    "                 'south_and_seattle' : [98146]}"
   ]
  },
  {
   "cell_type": "code",
   "execution_count": 39,
   "metadata": {},
   "outputs": [],
   "source": [
    "def get_key(val):\n",
    "    '''Loops through subregion_dict to return the key if the inputed \n",
    "    value is in the dictionary values'''\n",
    "    for key, value in subregion_dict.items(): \n",
    "         if val in value: \n",
    "            return key "
   ]
  },
  {
   "cell_type": "code",
   "execution_count": 40,
   "metadata": {
    "scrolled": false
   },
   "outputs": [
    {
     "data": {
      "text/plain": [
       "0              south_urban\n",
       "1                  seattle\n",
       "2                    north\n",
       "3                  seattle\n",
       "4               east_urban\n",
       "               ...        \n",
       "21592              seattle\n",
       "21593    south_and_seattle\n",
       "21594              seattle\n",
       "21595           east_urban\n",
       "21596              seattle\n",
       "Name: subregion, Length: 21596, dtype: object"
      ]
     },
     "execution_count": 40,
     "metadata": {},
     "output_type": "execute_result"
    }
   ],
   "source": [
    "region_lst = []\n",
    "for x in df['zipcode']:\n",
    "    region_lst.append(get_key(x))\n",
    "\n",
    "df['subregion'] = region_lst\n",
    "df['subregion']    "
   ]
  },
  {
   "cell_type": "code",
   "execution_count": 41,
   "metadata": {},
   "outputs": [],
   "source": [
    "df.drop('zipcode', axis=1, inplace=True)"
   ]
  },
  {
   "cell_type": "markdown",
   "metadata": {},
   "source": [
    "#### Convert columns into objects"
   ]
  },
  {
   "cell_type": "code",
   "execution_count": 42,
   "metadata": {},
   "outputs": [],
   "source": [
    "col_to_obj = ['view', 'condition']"
   ]
  },
  {
   "cell_type": "code",
   "execution_count": 43,
   "metadata": {},
   "outputs": [],
   "source": [
    "for x in col_to_obj:\n",
    "    df[x] = df[x].astype(str)"
   ]
  },
  {
   "cell_type": "code",
   "execution_count": 44,
   "metadata": {},
   "outputs": [
    {
     "name": "stdout",
     "output_type": "stream",
     "text": [
      "<class 'pandas.core.frame.DataFrame'>\n",
      "Int64Index: 21596 entries, 0 to 21596\n",
      "Data columns (total 19 columns):\n",
      "date              21596 non-null datetime64[ns]\n",
      "price             21596 non-null float64\n",
      "bedrooms          21596 non-null int64\n",
      "bathrooms         21596 non-null float64\n",
      "sqft_living       21596 non-null int64\n",
      "sqft_lot          21596 non-null int64\n",
      "floors            21596 non-null float64\n",
      "waterfront        21596 non-null float64\n",
      "view              21596 non-null object\n",
      "condition         21596 non-null object\n",
      "grade             21596 non-null int64\n",
      "sqft_above        21596 non-null int64\n",
      "sqft_basement     21596 non-null int64\n",
      "yr_built          21596 non-null int64\n",
      "yr_renovated      21596 non-null float64\n",
      "sqft_living15     21596 non-null int64\n",
      "sqft_lot15        21596 non-null int64\n",
      "yrs_since_reno    21596 non-null float64\n",
      "subregion         21596 non-null object\n",
      "dtypes: datetime64[ns](1), float64(6), int64(9), object(3)\n",
      "memory usage: 3.9+ MB\n"
     ]
    }
   ],
   "source": [
    "df.info()"
   ]
  },
  {
   "cell_type": "markdown",
   "metadata": {},
   "source": [
    "### One-Hot Encoding Categorical Columns"
   ]
  },
  {
   "cell_type": "code",
   "execution_count": 45,
   "metadata": {},
   "outputs": [],
   "source": [
    "feats = ['view','condition','grade','subregion']\n",
    "\n",
    "df = pd.get_dummies(df, drop_first=True)"
   ]
  },
  {
   "cell_type": "code",
   "execution_count": 46,
   "metadata": {},
   "outputs": [
    {
     "data": {
      "text/html": [
       "<div>\n",
       "<style scoped>\n",
       "    .dataframe tbody tr th:only-of-type {\n",
       "        vertical-align: middle;\n",
       "    }\n",
       "\n",
       "    .dataframe tbody tr th {\n",
       "        vertical-align: top;\n",
       "    }\n",
       "\n",
       "    .dataframe thead th {\n",
       "        text-align: right;\n",
       "    }\n",
       "</style>\n",
       "<table border=\"1\" class=\"dataframe\">\n",
       "  <thead>\n",
       "    <tr style=\"text-align: right;\">\n",
       "      <th></th>\n",
       "      <th>date</th>\n",
       "      <th>price</th>\n",
       "      <th>bedrooms</th>\n",
       "      <th>bathrooms</th>\n",
       "      <th>sqft_living</th>\n",
       "      <th>sqft_lot</th>\n",
       "      <th>floors</th>\n",
       "      <th>waterfront</th>\n",
       "      <th>grade</th>\n",
       "      <th>sqft_above</th>\n",
       "      <th>...</th>\n",
       "      <th>condition_4</th>\n",
       "      <th>condition_5</th>\n",
       "      <th>subregion_east_urban</th>\n",
       "      <th>subregion_north</th>\n",
       "      <th>subregion_north_and_seattle</th>\n",
       "      <th>subregion_seattle</th>\n",
       "      <th>subregion_south_and_seattle</th>\n",
       "      <th>subregion_south_rural</th>\n",
       "      <th>subregion_south_urban</th>\n",
       "      <th>subregion_vashon_island</th>\n",
       "    </tr>\n",
       "  </thead>\n",
       "  <tbody>\n",
       "    <tr>\n",
       "      <td>0</td>\n",
       "      <td>2014-10-13</td>\n",
       "      <td>221900.0</td>\n",
       "      <td>3</td>\n",
       "      <td>1.00</td>\n",
       "      <td>1180</td>\n",
       "      <td>5650</td>\n",
       "      <td>1.0</td>\n",
       "      <td>0.0</td>\n",
       "      <td>7</td>\n",
       "      <td>1180</td>\n",
       "      <td>...</td>\n",
       "      <td>0</td>\n",
       "      <td>0</td>\n",
       "      <td>0</td>\n",
       "      <td>0</td>\n",
       "      <td>0</td>\n",
       "      <td>0</td>\n",
       "      <td>0</td>\n",
       "      <td>0</td>\n",
       "      <td>1</td>\n",
       "      <td>0</td>\n",
       "    </tr>\n",
       "    <tr>\n",
       "      <td>1</td>\n",
       "      <td>2014-12-09</td>\n",
       "      <td>538000.0</td>\n",
       "      <td>3</td>\n",
       "      <td>2.25</td>\n",
       "      <td>2570</td>\n",
       "      <td>7242</td>\n",
       "      <td>2.0</td>\n",
       "      <td>0.0</td>\n",
       "      <td>7</td>\n",
       "      <td>2170</td>\n",
       "      <td>...</td>\n",
       "      <td>0</td>\n",
       "      <td>0</td>\n",
       "      <td>0</td>\n",
       "      <td>0</td>\n",
       "      <td>0</td>\n",
       "      <td>1</td>\n",
       "      <td>0</td>\n",
       "      <td>0</td>\n",
       "      <td>0</td>\n",
       "      <td>0</td>\n",
       "    </tr>\n",
       "    <tr>\n",
       "      <td>2</td>\n",
       "      <td>2015-02-25</td>\n",
       "      <td>180000.0</td>\n",
       "      <td>2</td>\n",
       "      <td>1.00</td>\n",
       "      <td>770</td>\n",
       "      <td>10000</td>\n",
       "      <td>1.0</td>\n",
       "      <td>0.0</td>\n",
       "      <td>6</td>\n",
       "      <td>770</td>\n",
       "      <td>...</td>\n",
       "      <td>0</td>\n",
       "      <td>0</td>\n",
       "      <td>0</td>\n",
       "      <td>1</td>\n",
       "      <td>0</td>\n",
       "      <td>0</td>\n",
       "      <td>0</td>\n",
       "      <td>0</td>\n",
       "      <td>0</td>\n",
       "      <td>0</td>\n",
       "    </tr>\n",
       "    <tr>\n",
       "      <td>3</td>\n",
       "      <td>2014-12-09</td>\n",
       "      <td>604000.0</td>\n",
       "      <td>4</td>\n",
       "      <td>3.00</td>\n",
       "      <td>1960</td>\n",
       "      <td>5000</td>\n",
       "      <td>1.0</td>\n",
       "      <td>0.0</td>\n",
       "      <td>7</td>\n",
       "      <td>1050</td>\n",
       "      <td>...</td>\n",
       "      <td>0</td>\n",
       "      <td>1</td>\n",
       "      <td>0</td>\n",
       "      <td>0</td>\n",
       "      <td>0</td>\n",
       "      <td>1</td>\n",
       "      <td>0</td>\n",
       "      <td>0</td>\n",
       "      <td>0</td>\n",
       "      <td>0</td>\n",
       "    </tr>\n",
       "    <tr>\n",
       "      <td>4</td>\n",
       "      <td>2015-02-18</td>\n",
       "      <td>510000.0</td>\n",
       "      <td>3</td>\n",
       "      <td>2.00</td>\n",
       "      <td>1680</td>\n",
       "      <td>8080</td>\n",
       "      <td>1.0</td>\n",
       "      <td>0.0</td>\n",
       "      <td>8</td>\n",
       "      <td>1680</td>\n",
       "      <td>...</td>\n",
       "      <td>0</td>\n",
       "      <td>0</td>\n",
       "      <td>1</td>\n",
       "      <td>0</td>\n",
       "      <td>0</td>\n",
       "      <td>0</td>\n",
       "      <td>0</td>\n",
       "      <td>0</td>\n",
       "      <td>0</td>\n",
       "      <td>0</td>\n",
       "    </tr>\n",
       "  </tbody>\n",
       "</table>\n",
       "<p>5 rows × 32 columns</p>\n",
       "</div>"
      ],
      "text/plain": [
       "        date     price  bedrooms  bathrooms  sqft_living  sqft_lot  floors  \\\n",
       "0 2014-10-13  221900.0         3       1.00         1180      5650     1.0   \n",
       "1 2014-12-09  538000.0         3       2.25         2570      7242     2.0   \n",
       "2 2015-02-25  180000.0         2       1.00          770     10000     1.0   \n",
       "3 2014-12-09  604000.0         4       3.00         1960      5000     1.0   \n",
       "4 2015-02-18  510000.0         3       2.00         1680      8080     1.0   \n",
       "\n",
       "   waterfront  grade  sqft_above  ...  condition_4  condition_5  \\\n",
       "0         0.0      7        1180  ...            0            0   \n",
       "1         0.0      7        2170  ...            0            0   \n",
       "2         0.0      6         770  ...            0            0   \n",
       "3         0.0      7        1050  ...            0            1   \n",
       "4         0.0      8        1680  ...            0            0   \n",
       "\n",
       "   subregion_east_urban  subregion_north  subregion_north_and_seattle  \\\n",
       "0                     0                0                            0   \n",
       "1                     0                0                            0   \n",
       "2                     0                1                            0   \n",
       "3                     0                0                            0   \n",
       "4                     1                0                            0   \n",
       "\n",
       "   subregion_seattle  subregion_south_and_seattle  subregion_south_rural  \\\n",
       "0                  0                            0                      0   \n",
       "1                  1                            0                      0   \n",
       "2                  0                            0                      0   \n",
       "3                  1                            0                      0   \n",
       "4                  0                            0                      0   \n",
       "\n",
       "   subregion_south_urban  subregion_vashon_island  \n",
       "0                      1                        0  \n",
       "1                      0                        0  \n",
       "2                      0                        0  \n",
       "3                      0                        0  \n",
       "4                      0                        0  \n",
       "\n",
       "[5 rows x 32 columns]"
      ]
     },
     "execution_count": 46,
     "metadata": {},
     "output_type": "execute_result"
    }
   ],
   "source": [
    "df.head()"
   ]
  },
  {
   "cell_type": "markdown",
   "metadata": {},
   "source": [
    "## Exploring the Data"
   ]
  },
  {
   "cell_type": "code",
   "execution_count": 47,
   "metadata": {},
   "outputs": [],
   "source": [
    "import matplotlib.pyplot as plt\n",
    "import seaborn as sns\n",
    "import numpy as np\n",
    "import six\n",
    "%matplotlib inline"
   ]
  },
  {
   "cell_type": "code",
   "execution_count": 48,
   "metadata": {},
   "outputs": [
    {
     "data": {
      "text/html": [
       "<div>\n",
       "<style scoped>\n",
       "    .dataframe tbody tr th:only-of-type {\n",
       "        vertical-align: middle;\n",
       "    }\n",
       "\n",
       "    .dataframe tbody tr th {\n",
       "        vertical-align: top;\n",
       "    }\n",
       "\n",
       "    .dataframe thead th {\n",
       "        text-align: right;\n",
       "    }\n",
       "</style>\n",
       "<table border=\"1\" class=\"dataframe\">\n",
       "  <thead>\n",
       "    <tr style=\"text-align: right;\">\n",
       "      <th></th>\n",
       "      <th>price</th>\n",
       "      <th>bedrooms</th>\n",
       "      <th>bathrooms</th>\n",
       "      <th>sqft_living</th>\n",
       "      <th>sqft_lot</th>\n",
       "      <th>floors</th>\n",
       "      <th>waterfront</th>\n",
       "      <th>grade</th>\n",
       "      <th>sqft_above</th>\n",
       "      <th>sqft_basement</th>\n",
       "      <th>...</th>\n",
       "      <th>condition_4</th>\n",
       "      <th>condition_5</th>\n",
       "      <th>subregion_east_urban</th>\n",
       "      <th>subregion_north</th>\n",
       "      <th>subregion_north_and_seattle</th>\n",
       "      <th>subregion_seattle</th>\n",
       "      <th>subregion_south_and_seattle</th>\n",
       "      <th>subregion_south_rural</th>\n",
       "      <th>subregion_south_urban</th>\n",
       "      <th>subregion_vashon_island</th>\n",
       "    </tr>\n",
       "  </thead>\n",
       "  <tbody>\n",
       "    <tr>\n",
       "      <td>count</td>\n",
       "      <td>2.159600e+04</td>\n",
       "      <td>21596.000000</td>\n",
       "      <td>21596.000000</td>\n",
       "      <td>21596.000000</td>\n",
       "      <td>2.159600e+04</td>\n",
       "      <td>21596.000000</td>\n",
       "      <td>21596.000000</td>\n",
       "      <td>21596.000000</td>\n",
       "      <td>21596.000000</td>\n",
       "      <td>21596.000000</td>\n",
       "      <td>...</td>\n",
       "      <td>21596.000000</td>\n",
       "      <td>21596.000000</td>\n",
       "      <td>21596.000000</td>\n",
       "      <td>21596.000000</td>\n",
       "      <td>21596.000000</td>\n",
       "      <td>21596.000000</td>\n",
       "      <td>21596.000000</td>\n",
       "      <td>21596.000000</td>\n",
       "      <td>21596.000000</td>\n",
       "      <td>21596.000000</td>\n",
       "    </tr>\n",
       "    <tr>\n",
       "      <td>mean</td>\n",
       "      <td>5.402920e+05</td>\n",
       "      <td>3.371828</td>\n",
       "      <td>2.115843</td>\n",
       "      <td>2080.343165</td>\n",
       "      <td>1.509983e+04</td>\n",
       "      <td>1.494119</td>\n",
       "      <td>0.006761</td>\n",
       "      <td>7.657946</td>\n",
       "      <td>1788.631506</td>\n",
       "      <td>291.711660</td>\n",
       "      <td>...</td>\n",
       "      <td>0.262873</td>\n",
       "      <td>0.078718</td>\n",
       "      <td>0.272828</td>\n",
       "      <td>0.055427</td>\n",
       "      <td>0.034636</td>\n",
       "      <td>0.288572</td>\n",
       "      <td>0.013336</td>\n",
       "      <td>0.042693</td>\n",
       "      <td>0.244397</td>\n",
       "      <td>0.005418</td>\n",
       "    </tr>\n",
       "    <tr>\n",
       "      <td>std</td>\n",
       "      <td>3.673760e+05</td>\n",
       "      <td>0.904114</td>\n",
       "      <td>0.768998</td>\n",
       "      <td>918.122038</td>\n",
       "      <td>4.141355e+04</td>\n",
       "      <td>0.539685</td>\n",
       "      <td>0.081946</td>\n",
       "      <td>1.173218</td>\n",
       "      <td>827.763251</td>\n",
       "      <td>442.673703</td>\n",
       "      <td>...</td>\n",
       "      <td>0.440204</td>\n",
       "      <td>0.269305</td>\n",
       "      <td>0.445424</td>\n",
       "      <td>0.228817</td>\n",
       "      <td>0.182860</td>\n",
       "      <td>0.453109</td>\n",
       "      <td>0.114711</td>\n",
       "      <td>0.202169</td>\n",
       "      <td>0.429739</td>\n",
       "      <td>0.073407</td>\n",
       "    </tr>\n",
       "    <tr>\n",
       "      <td>min</td>\n",
       "      <td>7.800000e+04</td>\n",
       "      <td>1.000000</td>\n",
       "      <td>0.500000</td>\n",
       "      <td>370.000000</td>\n",
       "      <td>5.200000e+02</td>\n",
       "      <td>1.000000</td>\n",
       "      <td>0.000000</td>\n",
       "      <td>3.000000</td>\n",
       "      <td>370.000000</td>\n",
       "      <td>0.000000</td>\n",
       "      <td>...</td>\n",
       "      <td>0.000000</td>\n",
       "      <td>0.000000</td>\n",
       "      <td>0.000000</td>\n",
       "      <td>0.000000</td>\n",
       "      <td>0.000000</td>\n",
       "      <td>0.000000</td>\n",
       "      <td>0.000000</td>\n",
       "      <td>0.000000</td>\n",
       "      <td>0.000000</td>\n",
       "      <td>0.000000</td>\n",
       "    </tr>\n",
       "    <tr>\n",
       "      <td>25%</td>\n",
       "      <td>3.220000e+05</td>\n",
       "      <td>3.000000</td>\n",
       "      <td>1.750000</td>\n",
       "      <td>1430.000000</td>\n",
       "      <td>5.040000e+03</td>\n",
       "      <td>1.000000</td>\n",
       "      <td>0.000000</td>\n",
       "      <td>7.000000</td>\n",
       "      <td>1190.000000</td>\n",
       "      <td>0.000000</td>\n",
       "      <td>...</td>\n",
       "      <td>0.000000</td>\n",
       "      <td>0.000000</td>\n",
       "      <td>0.000000</td>\n",
       "      <td>0.000000</td>\n",
       "      <td>0.000000</td>\n",
       "      <td>0.000000</td>\n",
       "      <td>0.000000</td>\n",
       "      <td>0.000000</td>\n",
       "      <td>0.000000</td>\n",
       "      <td>0.000000</td>\n",
       "    </tr>\n",
       "    <tr>\n",
       "      <td>50%</td>\n",
       "      <td>4.500000e+05</td>\n",
       "      <td>3.000000</td>\n",
       "      <td>2.250000</td>\n",
       "      <td>1910.000000</td>\n",
       "      <td>7.619000e+03</td>\n",
       "      <td>1.500000</td>\n",
       "      <td>0.000000</td>\n",
       "      <td>7.000000</td>\n",
       "      <td>1560.000000</td>\n",
       "      <td>0.000000</td>\n",
       "      <td>...</td>\n",
       "      <td>0.000000</td>\n",
       "      <td>0.000000</td>\n",
       "      <td>0.000000</td>\n",
       "      <td>0.000000</td>\n",
       "      <td>0.000000</td>\n",
       "      <td>0.000000</td>\n",
       "      <td>0.000000</td>\n",
       "      <td>0.000000</td>\n",
       "      <td>0.000000</td>\n",
       "      <td>0.000000</td>\n",
       "    </tr>\n",
       "    <tr>\n",
       "      <td>75%</td>\n",
       "      <td>6.450000e+05</td>\n",
       "      <td>4.000000</td>\n",
       "      <td>2.500000</td>\n",
       "      <td>2550.000000</td>\n",
       "      <td>1.068550e+04</td>\n",
       "      <td>2.000000</td>\n",
       "      <td>0.000000</td>\n",
       "      <td>8.000000</td>\n",
       "      <td>2210.000000</td>\n",
       "      <td>560.000000</td>\n",
       "      <td>...</td>\n",
       "      <td>1.000000</td>\n",
       "      <td>0.000000</td>\n",
       "      <td>1.000000</td>\n",
       "      <td>0.000000</td>\n",
       "      <td>0.000000</td>\n",
       "      <td>1.000000</td>\n",
       "      <td>0.000000</td>\n",
       "      <td>0.000000</td>\n",
       "      <td>0.000000</td>\n",
       "      <td>0.000000</td>\n",
       "    </tr>\n",
       "    <tr>\n",
       "      <td>max</td>\n",
       "      <td>7.700000e+06</td>\n",
       "      <td>11.000000</td>\n",
       "      <td>8.000000</td>\n",
       "      <td>13540.000000</td>\n",
       "      <td>1.651359e+06</td>\n",
       "      <td>3.500000</td>\n",
       "      <td>1.000000</td>\n",
       "      <td>13.000000</td>\n",
       "      <td>9410.000000</td>\n",
       "      <td>4820.000000</td>\n",
       "      <td>...</td>\n",
       "      <td>1.000000</td>\n",
       "      <td>1.000000</td>\n",
       "      <td>1.000000</td>\n",
       "      <td>1.000000</td>\n",
       "      <td>1.000000</td>\n",
       "      <td>1.000000</td>\n",
       "      <td>1.000000</td>\n",
       "      <td>1.000000</td>\n",
       "      <td>1.000000</td>\n",
       "      <td>1.000000</td>\n",
       "    </tr>\n",
       "  </tbody>\n",
       "</table>\n",
       "<p>8 rows × 31 columns</p>\n",
       "</div>"
      ],
      "text/plain": [
       "              price      bedrooms     bathrooms   sqft_living      sqft_lot  \\\n",
       "count  2.159600e+04  21596.000000  21596.000000  21596.000000  2.159600e+04   \n",
       "mean   5.402920e+05      3.371828      2.115843   2080.343165  1.509983e+04   \n",
       "std    3.673760e+05      0.904114      0.768998    918.122038  4.141355e+04   \n",
       "min    7.800000e+04      1.000000      0.500000    370.000000  5.200000e+02   \n",
       "25%    3.220000e+05      3.000000      1.750000   1430.000000  5.040000e+03   \n",
       "50%    4.500000e+05      3.000000      2.250000   1910.000000  7.619000e+03   \n",
       "75%    6.450000e+05      4.000000      2.500000   2550.000000  1.068550e+04   \n",
       "max    7.700000e+06     11.000000      8.000000  13540.000000  1.651359e+06   \n",
       "\n",
       "             floors    waterfront         grade    sqft_above  sqft_basement  \\\n",
       "count  21596.000000  21596.000000  21596.000000  21596.000000   21596.000000   \n",
       "mean       1.494119      0.006761      7.657946   1788.631506     291.711660   \n",
       "std        0.539685      0.081946      1.173218    827.763251     442.673703   \n",
       "min        1.000000      0.000000      3.000000    370.000000       0.000000   \n",
       "25%        1.000000      0.000000      7.000000   1190.000000       0.000000   \n",
       "50%        1.500000      0.000000      7.000000   1560.000000       0.000000   \n",
       "75%        2.000000      0.000000      8.000000   2210.000000     560.000000   \n",
       "max        3.500000      1.000000     13.000000   9410.000000    4820.000000   \n",
       "\n",
       "       ...   condition_4   condition_5  subregion_east_urban  subregion_north  \\\n",
       "count  ...  21596.000000  21596.000000          21596.000000     21596.000000   \n",
       "mean   ...      0.262873      0.078718              0.272828         0.055427   \n",
       "std    ...      0.440204      0.269305              0.445424         0.228817   \n",
       "min    ...      0.000000      0.000000              0.000000         0.000000   \n",
       "25%    ...      0.000000      0.000000              0.000000         0.000000   \n",
       "50%    ...      0.000000      0.000000              0.000000         0.000000   \n",
       "75%    ...      1.000000      0.000000              1.000000         0.000000   \n",
       "max    ...      1.000000      1.000000              1.000000         1.000000   \n",
       "\n",
       "       subregion_north_and_seattle  subregion_seattle  \\\n",
       "count                 21596.000000       21596.000000   \n",
       "mean                      0.034636           0.288572   \n",
       "std                       0.182860           0.453109   \n",
       "min                       0.000000           0.000000   \n",
       "25%                       0.000000           0.000000   \n",
       "50%                       0.000000           0.000000   \n",
       "75%                       0.000000           1.000000   \n",
       "max                       1.000000           1.000000   \n",
       "\n",
       "       subregion_south_and_seattle  subregion_south_rural  \\\n",
       "count                 21596.000000           21596.000000   \n",
       "mean                      0.013336               0.042693   \n",
       "std                       0.114711               0.202169   \n",
       "min                       0.000000               0.000000   \n",
       "25%                       0.000000               0.000000   \n",
       "50%                       0.000000               0.000000   \n",
       "75%                       0.000000               0.000000   \n",
       "max                       1.000000               1.000000   \n",
       "\n",
       "       subregion_south_urban  subregion_vashon_island  \n",
       "count           21596.000000             21596.000000  \n",
       "mean                0.244397                 0.005418  \n",
       "std                 0.429739                 0.073407  \n",
       "min                 0.000000                 0.000000  \n",
       "25%                 0.000000                 0.000000  \n",
       "50%                 0.000000                 0.000000  \n",
       "75%                 0.000000                 0.000000  \n",
       "max                 1.000000                 1.000000  \n",
       "\n",
       "[8 rows x 31 columns]"
      ]
     },
     "execution_count": 48,
     "metadata": {},
     "output_type": "execute_result"
    }
   ],
   "source": [
    "# Quick look at the details of the dataset\n",
    "df.describe()\n"
   ]
  },
  {
   "cell_type": "code",
   "execution_count": 49,
   "metadata": {},
   "outputs": [
    {
     "data": {
      "image/png": "[encoded data removed]",
      "text/plain": [
       "<Figure size 1440x1296 with 36 Axes>"
      ]
     },
     "metadata": {
      "needs_background": "light"
     },
     "output_type": "display_data"
    }
   ],
   "source": [
    "# Histogram of the dataset\n",
    "df.hist(figsize = (20,18))\n",
    "plt.savefig('Figures/df_hist.png', dpi=300, bbox_inches='tight');"
   ]
  },
  {
   "cell_type": "markdown",
   "metadata": {},
   "source": [
    "### Joint plots\n",
    "Looking at joint plots to see which variables"
   ]
  },
  {
   "cell_type": "code",
   "execution_count": 50,
   "metadata": {},
   "outputs": [],
   "source": [
    "import scipy.stats as stats"
   ]
  },
  {
   "cell_type": "code",
   "execution_count": 51,
   "metadata": {},
   "outputs": [
    {
     "name": "stderr",
     "output_type": "stream",
     "text": [
      "/Users/Crisitna/anaconda3/envs/learn-env/lib/python3.6/site-packages/seaborn/axisgrid.py:1847: UserWarning: JointGrid annotation is deprecated and will be removed in a future release.\n",
      "  warnings.warn(UserWarning(msg))\n"
     ]
    },
    {
     "data": {
      "image/png": "[encoded data removed]",
      "text/plain": [
       "<Figure size 432x432 with 3 Axes>"
      ]
     },
     "metadata": {
      "needs_background": "light"
     },
     "output_type": "display_data"
    },
    {
     "data": {
      "text/plain": [
       "''"
      ]
     },
     "execution_count": 51,
     "metadata": {},
     "output_type": "execute_result"
    }
   ],
   "source": [
    "sns.jointplot('bathrooms','price', data=df, kind='reg').annotate(stats.pearsonr)\n",
    "plt.show()\n",
    ";"
   ]
  },
  {
   "cell_type": "code",
   "execution_count": 52,
   "metadata": {},
   "outputs": [
    {
     "data": {
      "image/png": "[encoded data removed]",
      "text/plain": [
       "<Figure size 432x432 with 3 Axes>"
      ]
     },
     "metadata": {
      "needs_background": "light"
     },
     "output_type": "display_data"
    }
   ],
   "source": [
    "sns.jointplot('bedrooms','price', data=df, kind='reg').annotate(stats.pearsonr)\n",
    "\n",
    "\n",
    "plt.savefig('Figures/joint_example.png', dpi=300, bbox_inches='tight');"
   ]
  },
  {
   "cell_type": "code",
   "execution_count": 53,
   "metadata": {},
   "outputs": [
    {
     "data": {
      "image/png": "[encoded data removed]",
      "text/plain": [
       "<Figure size 432x432 with 3 Axes>"
      ]
     },
     "metadata": {
      "needs_background": "light"
     },
     "output_type": "display_data"
    }
   ],
   "source": [
    "sns.jointplot('floors','price', data=df, kind='reg').annotate(stats.pearsonr)\n",
    "plt.show();"
   ]
  },
  {
   "cell_type": "code",
   "execution_count": 54,
   "metadata": {},
   "outputs": [
    {
     "data": {
      "image/png": "[encoded data removed]",
      "text/plain": [
       "<Figure size 432x432 with 3 Axes>"
      ]
     },
     "metadata": {
      "needs_background": "light"
     },
     "output_type": "display_data"
    }
   ],
   "source": [
    "sns.jointplot('grade','price', data=df, kind='reg').annotate(stats.pearsonr)\n",
    "plt.show();"
   ]
  },
  {
   "cell_type": "code",
   "execution_count": 55,
   "metadata": {},
   "outputs": [
    {
     "data": {
      "image/png": "[encoded data removed]",
      "text/plain": [
       "<Figure size 432x432 with 3 Axes>"
      ]
     },
     "metadata": {
      "needs_background": "light"
     },
     "output_type": "display_data"
    }
   ],
   "source": [
    "sns.jointplot('sqft_above','price', data=df, kind='reg').annotate(stats.pearsonr)\n",
    "plt.show();"
   ]
  },
  {
   "cell_type": "code",
   "execution_count": 56,
   "metadata": {},
   "outputs": [
    {
     "data": {
      "image/png": "[encoded data removed]",
      "text/plain": [
       "<Figure size 432x432 with 3 Axes>"
      ]
     },
     "metadata": {
      "needs_background": "light"
     },
     "output_type": "display_data"
    }
   ],
   "source": [
    "sns.jointplot('sqft_living','price', data=df, kind='reg').annotate(stats.pearsonr)\n",
    "plt.show();"
   ]
  },
  {
   "cell_type": "code",
   "execution_count": 57,
   "metadata": {},
   "outputs": [
    {
     "data": {
      "image/png": "[encoded data removed]",
      "text/plain": [
       "<Figure size 432x432 with 3 Axes>"
      ]
     },
     "metadata": {
      "needs_background": "light"
     },
     "output_type": "display_data"
    }
   ],
   "source": [
    "sns.jointplot('sqft_lot','price', data=df, kind='reg').annotate(stats.pearsonr)\n",
    "plt.show();"
   ]
  },
  {
   "cell_type": "code",
   "execution_count": 58,
   "metadata": {},
   "outputs": [
    {
     "data": {
      "image/png": "[encoded data removed]",
      "text/plain": [
       "<Figure size 432x432 with 3 Axes>"
      ]
     },
     "metadata": {
      "needs_background": "light"
     },
     "output_type": "display_data"
    }
   ],
   "source": [
    "sns.jointplot('sqft_living15','price', data=df, kind='reg').annotate(stats.pearsonr)\n",
    "plt.show();"
   ]
  },
  {
   "cell_type": "code",
   "execution_count": 59,
   "metadata": {},
   "outputs": [
    {
     "data": {
      "image/png": "[encoded data removed]",
      "text/plain": [
       "<Figure size 432x432 with 3 Axes>"
      ]
     },
     "metadata": {
      "needs_background": "light"
     },
     "output_type": "display_data"
    }
   ],
   "source": [
    "sns.jointplot('sqft_lot15','price', data=df, kind='reg').annotate(stats.pearsonr)\n",
    "plt.show();"
   ]
  },
  {
   "cell_type": "code",
   "execution_count": 60,
   "metadata": {},
   "outputs": [
    {
     "data": {
      "image/png": "[encoded data removed]",
      "text/plain": [
       "<Figure size 432x432 with 3 Axes>"
      ]
     },
     "metadata": {
      "needs_background": "light"
     },
     "output_type": "display_data"
    }
   ],
   "source": [
    "sns.jointplot('yr_built','price', data=df, kind='reg').annotate(stats.pearsonr)\n",
    "plt.show();"
   ]
  },
  {
   "cell_type": "code",
   "execution_count": 61,
   "metadata": {},
   "outputs": [
    {
     "data": {
      "image/png": "[encoded data removed]",
      "text/plain": [
       "<Figure size 432x432 with 3 Axes>"
      ]
     },
     "metadata": {
      "needs_background": "light"
     },
     "output_type": "display_data"
    }
   ],
   "source": [
    "sns.jointplot('yr_renovated','price', data=df, kind='reg').annotate(stats.pearsonr)\n",
    "plt.show();"
   ]
  },
  {
   "cell_type": "code",
   "execution_count": 62,
   "metadata": {},
   "outputs": [
    {
     "data": {
      "image/png": "[encoded data removed]",
      "text/plain": [
       "<Figure size 432x432 with 3 Axes>"
      ]
     },
     "metadata": {
      "needs_background": "light"
     },
     "output_type": "display_data"
    }
   ],
   "source": [
    "sns.jointplot('yrs_since_reno','price', data=df, kind='reg').annotate(stats.pearsonr)\n",
    "plt.show();"
   ]
  },
  {
   "cell_type": "markdown",
   "metadata": {},
   "source": [
    "### Heatmap"
   ]
  },
  {
   "cell_type": "code",
   "execution_count": 63,
   "metadata": {},
   "outputs": [
    {
     "data": {
      "text/html": [
       "<div>\n",
       "<style scoped>\n",
       "    .dataframe tbody tr th:only-of-type {\n",
       "        vertical-align: middle;\n",
       "    }\n",
       "\n",
       "    .dataframe tbody tr th {\n",
       "        vertical-align: top;\n",
       "    }\n",
       "\n",
       "    .dataframe thead th {\n",
       "        text-align: right;\n",
       "    }\n",
       "</style>\n",
       "<table border=\"1\" class=\"dataframe\">\n",
       "  <thead>\n",
       "    <tr style=\"text-align: right;\">\n",
       "      <th></th>\n",
       "      <th>bedrooms</th>\n",
       "      <th>bathrooms</th>\n",
       "      <th>sqft_living</th>\n",
       "      <th>sqft_lot</th>\n",
       "      <th>floors</th>\n",
       "      <th>waterfront</th>\n",
       "      <th>grade</th>\n",
       "      <th>sqft_above</th>\n",
       "      <th>sqft_basement</th>\n",
       "      <th>yr_built</th>\n",
       "      <th>yr_renovated</th>\n",
       "      <th>sqft_living15</th>\n",
       "      <th>sqft_lot15</th>\n",
       "      <th>yrs_since_reno</th>\n",
       "    </tr>\n",
       "  </thead>\n",
       "  <tbody>\n",
       "    <tr>\n",
       "      <td>bedrooms</td>\n",
       "      <td>1.000000</td>\n",
       "      <td>0.527870</td>\n",
       "      <td>0.593178</td>\n",
       "      <td>0.033602</td>\n",
       "      <td>0.183707</td>\n",
       "      <td>-0.002054</td>\n",
       "      <td>0.366174</td>\n",
       "      <td>0.492543</td>\n",
       "      <td>0.309261</td>\n",
       "      <td>0.160736</td>\n",
       "      <td>0.018626</td>\n",
       "      <td>0.404532</td>\n",
       "      <td>0.031892</td>\n",
       "      <td>-0.169793</td>\n",
       "    </tr>\n",
       "    <tr>\n",
       "      <td>bathrooms</td>\n",
       "      <td>0.527870</td>\n",
       "      <td>1.000000</td>\n",
       "      <td>0.755755</td>\n",
       "      <td>0.088368</td>\n",
       "      <td>0.502574</td>\n",
       "      <td>0.063628</td>\n",
       "      <td>0.665834</td>\n",
       "      <td>0.686664</td>\n",
       "      <td>0.283459</td>\n",
       "      <td>0.507166</td>\n",
       "      <td>0.047173</td>\n",
       "      <td>0.569878</td>\n",
       "      <td>0.088297</td>\n",
       "      <td>-0.532382</td>\n",
       "    </tr>\n",
       "    <tr>\n",
       "      <td>sqft_living</td>\n",
       "      <td>0.593178</td>\n",
       "      <td>0.755755</td>\n",
       "      <td>1.000000</td>\n",
       "      <td>0.173449</td>\n",
       "      <td>0.353941</td>\n",
       "      <td>0.104635</td>\n",
       "      <td>0.762776</td>\n",
       "      <td>0.876448</td>\n",
       "      <td>0.435152</td>\n",
       "      <td>0.318140</td>\n",
       "      <td>0.051056</td>\n",
       "      <td>0.756400</td>\n",
       "      <td>0.184337</td>\n",
       "      <td>-0.339134</td>\n",
       "    </tr>\n",
       "    <tr>\n",
       "      <td>sqft_lot</td>\n",
       "      <td>0.033602</td>\n",
       "      <td>0.088368</td>\n",
       "      <td>0.173449</td>\n",
       "      <td>1.000000</td>\n",
       "      <td>-0.004824</td>\n",
       "      <td>0.021458</td>\n",
       "      <td>0.114726</td>\n",
       "      <td>0.184134</td>\n",
       "      <td>0.015424</td>\n",
       "      <td>0.052939</td>\n",
       "      <td>0.004977</td>\n",
       "      <td>0.144756</td>\n",
       "      <td>0.718203</td>\n",
       "      <td>-0.051862</td>\n",
       "    </tr>\n",
       "    <tr>\n",
       "      <td>floors</td>\n",
       "      <td>0.183707</td>\n",
       "      <td>0.502574</td>\n",
       "      <td>0.353941</td>\n",
       "      <td>-0.004824</td>\n",
       "      <td>1.000000</td>\n",
       "      <td>0.020794</td>\n",
       "      <td>0.458783</td>\n",
       "      <td>0.523970</td>\n",
       "      <td>-0.245694</td>\n",
       "      <td>0.489175</td>\n",
       "      <td>0.003785</td>\n",
       "      <td>0.280072</td>\n",
       "      <td>-0.010734</td>\n",
       "      <td>-0.500702</td>\n",
       "    </tr>\n",
       "    <tr>\n",
       "      <td>waterfront</td>\n",
       "      <td>-0.002054</td>\n",
       "      <td>0.063628</td>\n",
       "      <td>0.104635</td>\n",
       "      <td>0.021458</td>\n",
       "      <td>0.020794</td>\n",
       "      <td>1.000000</td>\n",
       "      <td>0.082817</td>\n",
       "      <td>0.071776</td>\n",
       "      <td>0.082803</td>\n",
       "      <td>-0.024491</td>\n",
       "      <td>0.073938</td>\n",
       "      <td>0.083822</td>\n",
       "      <td>0.030657</td>\n",
       "      <td>0.006895</td>\n",
       "    </tr>\n",
       "    <tr>\n",
       "      <td>grade</td>\n",
       "      <td>0.366174</td>\n",
       "      <td>0.665834</td>\n",
       "      <td>0.762776</td>\n",
       "      <td>0.114726</td>\n",
       "      <td>0.458783</td>\n",
       "      <td>0.082817</td>\n",
       "      <td>1.000000</td>\n",
       "      <td>0.756069</td>\n",
       "      <td>0.168240</td>\n",
       "      <td>0.447854</td>\n",
       "      <td>0.015618</td>\n",
       "      <td>0.713863</td>\n",
       "      <td>0.120974</td>\n",
       "      <td>-0.459322</td>\n",
       "    </tr>\n",
       "    <tr>\n",
       "      <td>sqft_above</td>\n",
       "      <td>0.492543</td>\n",
       "      <td>0.686664</td>\n",
       "      <td>0.876448</td>\n",
       "      <td>0.184134</td>\n",
       "      <td>0.523970</td>\n",
       "      <td>0.071776</td>\n",
       "      <td>0.756069</td>\n",
       "      <td>1.000000</td>\n",
       "      <td>-0.052130</td>\n",
       "      <td>0.424017</td>\n",
       "      <td>0.020637</td>\n",
       "      <td>0.731756</td>\n",
       "      <td>0.195069</td>\n",
       "      <td>-0.433412</td>\n",
       "    </tr>\n",
       "    <tr>\n",
       "      <td>sqft_basement</td>\n",
       "      <td>0.309261</td>\n",
       "      <td>0.283459</td>\n",
       "      <td>0.435152</td>\n",
       "      <td>0.015424</td>\n",
       "      <td>-0.245694</td>\n",
       "      <td>0.082803</td>\n",
       "      <td>0.168240</td>\n",
       "      <td>-0.052130</td>\n",
       "      <td>1.000000</td>\n",
       "      <td>-0.133043</td>\n",
       "      <td>0.067302</td>\n",
       "      <td>0.200478</td>\n",
       "      <td>0.017559</td>\n",
       "      <td>0.107069</td>\n",
       "    </tr>\n",
       "    <tr>\n",
       "      <td>yr_built</td>\n",
       "      <td>0.160736</td>\n",
       "      <td>0.507166</td>\n",
       "      <td>0.318140</td>\n",
       "      <td>0.052939</td>\n",
       "      <td>0.489175</td>\n",
       "      <td>-0.024491</td>\n",
       "      <td>0.447854</td>\n",
       "      <td>0.424017</td>\n",
       "      <td>-0.133043</td>\n",
       "      <td>1.000000</td>\n",
       "      <td>-0.202565</td>\n",
       "      <td>0.326353</td>\n",
       "      <td>0.070767</td>\n",
       "      <td>-0.926404</td>\n",
       "    </tr>\n",
       "    <tr>\n",
       "      <td>yr_renovated</td>\n",
       "      <td>0.018626</td>\n",
       "      <td>0.047173</td>\n",
       "      <td>0.051056</td>\n",
       "      <td>0.004977</td>\n",
       "      <td>0.003785</td>\n",
       "      <td>0.073938</td>\n",
       "      <td>0.015618</td>\n",
       "      <td>0.020637</td>\n",
       "      <td>0.067302</td>\n",
       "      <td>-0.202565</td>\n",
       "      <td>1.000000</td>\n",
       "      <td>0.000675</td>\n",
       "      <td>0.004283</td>\n",
       "      <td>-0.150771</td>\n",
       "    </tr>\n",
       "    <tr>\n",
       "      <td>sqft_living15</td>\n",
       "      <td>0.404532</td>\n",
       "      <td>0.569878</td>\n",
       "      <td>0.756400</td>\n",
       "      <td>0.144756</td>\n",
       "      <td>0.280072</td>\n",
       "      <td>0.083822</td>\n",
       "      <td>0.713863</td>\n",
       "      <td>0.731756</td>\n",
       "      <td>0.200478</td>\n",
       "      <td>0.326353</td>\n",
       "      <td>0.000675</td>\n",
       "      <td>1.000000</td>\n",
       "      <td>0.183506</td>\n",
       "      <td>-0.325502</td>\n",
       "    </tr>\n",
       "    <tr>\n",
       "      <td>sqft_lot15</td>\n",
       "      <td>0.031892</td>\n",
       "      <td>0.088297</td>\n",
       "      <td>0.184337</td>\n",
       "      <td>0.718203</td>\n",
       "      <td>-0.010734</td>\n",
       "      <td>0.030657</td>\n",
       "      <td>0.120974</td>\n",
       "      <td>0.195069</td>\n",
       "      <td>0.017559</td>\n",
       "      <td>0.070767</td>\n",
       "      <td>0.004283</td>\n",
       "      <td>0.183506</td>\n",
       "      <td>1.000000</td>\n",
       "      <td>-0.069404</td>\n",
       "    </tr>\n",
       "    <tr>\n",
       "      <td>yrs_since_reno</td>\n",
       "      <td>-0.169793</td>\n",
       "      <td>-0.532382</td>\n",
       "      <td>-0.339134</td>\n",
       "      <td>-0.051862</td>\n",
       "      <td>-0.500702</td>\n",
       "      <td>0.006895</td>\n",
       "      <td>-0.459322</td>\n",
       "      <td>-0.433412</td>\n",
       "      <td>0.107069</td>\n",
       "      <td>-0.926404</td>\n",
       "      <td>-0.150771</td>\n",
       "      <td>-0.325502</td>\n",
       "      <td>-0.069404</td>\n",
       "      <td>1.000000</td>\n",
       "    </tr>\n",
       "  </tbody>\n",
       "</table>\n",
       "</div>"
      ],
      "text/plain": [
       "                bedrooms  bathrooms  sqft_living  sqft_lot    floors  \\\n",
       "bedrooms        1.000000   0.527870     0.593178  0.033602  0.183707   \n",
       "bathrooms       0.527870   1.000000     0.755755  0.088368  0.502574   \n",
       "sqft_living     0.593178   0.755755     1.000000  0.173449  0.353941   \n",
       "sqft_lot        0.033602   0.088368     0.173449  1.000000 -0.004824   \n",
       "floors          0.183707   0.502574     0.353941 -0.004824  1.000000   \n",
       "waterfront     -0.002054   0.063628     0.104635  0.021458  0.020794   \n",
       "grade           0.366174   0.665834     0.762776  0.114726  0.458783   \n",
       "sqft_above      0.492543   0.686664     0.876448  0.184134  0.523970   \n",
       "sqft_basement   0.309261   0.283459     0.435152  0.015424 -0.245694   \n",
       "yr_built        0.160736   0.507166     0.318140  0.052939  0.489175   \n",
       "yr_renovated    0.018626   0.047173     0.051056  0.004977  0.003785   \n",
       "sqft_living15   0.404532   0.569878     0.756400  0.144756  0.280072   \n",
       "sqft_lot15      0.031892   0.088297     0.184337  0.718203 -0.010734   \n",
       "yrs_since_reno -0.169793  -0.532382    -0.339134 -0.051862 -0.500702   \n",
       "\n",
       "                waterfront     grade  sqft_above  sqft_basement  yr_built  \\\n",
       "bedrooms         -0.002054  0.366174    0.492543       0.309261  0.160736   \n",
       "bathrooms         0.063628  0.665834    0.686664       0.283459  0.507166   \n",
       "sqft_living       0.104635  0.762776    0.876448       0.435152  0.318140   \n",
       "sqft_lot          0.021458  0.114726    0.184134       0.015424  0.052939   \n",
       "floors            0.020794  0.458783    0.523970      -0.245694  0.489175   \n",
       "waterfront        1.000000  0.082817    0.071776       0.082803 -0.024491   \n",
       "grade             0.082817  1.000000    0.756069       0.168240  0.447854   \n",
       "sqft_above        0.071776  0.756069    1.000000      -0.052130  0.424017   \n",
       "sqft_basement     0.082803  0.168240   -0.052130       1.000000 -0.133043   \n",
       "yr_built         -0.024491  0.447854    0.424017      -0.133043  1.000000   \n",
       "yr_renovated      0.073938  0.015618    0.020637       0.067302 -0.202565   \n",
       "sqft_living15     0.083822  0.713863    0.731756       0.200478  0.326353   \n",
       "sqft_lot15        0.030657  0.120974    0.195069       0.017559  0.070767   \n",
       "yrs_since_reno    0.006895 -0.459322   -0.433412       0.107069 -0.926404   \n",
       "\n",
       "                yr_renovated  sqft_living15  sqft_lot15  yrs_since_reno  \n",
       "bedrooms            0.018626       0.404532    0.031892       -0.169793  \n",
       "bathrooms           0.047173       0.569878    0.088297       -0.532382  \n",
       "sqft_living         0.051056       0.756400    0.184337       -0.339134  \n",
       "sqft_lot            0.004977       0.144756    0.718203       -0.051862  \n",
       "floors              0.003785       0.280072   -0.010734       -0.500702  \n",
       "waterfront          0.073938       0.083822    0.030657        0.006895  \n",
       "grade               0.015618       0.713863    0.120974       -0.459322  \n",
       "sqft_above          0.020637       0.731756    0.195069       -0.433412  \n",
       "sqft_basement       0.067302       0.200478    0.017559        0.107069  \n",
       "yr_built           -0.202565       0.326353    0.070767       -0.926404  \n",
       "yr_renovated        1.000000       0.000675    0.004283       -0.150771  \n",
       "sqft_living15       0.000675       1.000000    0.183506       -0.325502  \n",
       "sqft_lot15          0.004283       0.183506    1.000000       -0.069404  \n",
       "yrs_since_reno     -0.150771      -0.325502   -0.069404        1.000000  "
      ]
     },
     "execution_count": 63,
     "metadata": {},
     "output_type": "execute_result"
    }
   ],
   "source": [
    "# Create a heatmap to see if there is danage of multicorrelation\n",
    "feats = ['bedrooms', 'bathrooms', 'sqft_living', 'sqft_lot', 'floors', 'waterfront',\n",
    "         'grade', 'sqft_above', 'sqft_basement', 'yr_built', 'yr_renovated',\n",
    "         'sqft_living15', 'sqft_lot15', 'yrs_since_reno']\n",
    "corr = df[feats].corr()\n",
    "corr"
   ]
  },
  {
   "cell_type": "code",
   "execution_count": 64,
   "metadata": {},
   "outputs": [
    {
     "data": {
      "image/png": "[encoded data removed]",
      "text/plain": [
       "<Figure size 720x720 with 2 Axes>"
      ]
     },
     "metadata": {
      "needs_background": "light"
     },
     "output_type": "display_data"
    }
   ],
   "source": [
    "fig, ax = plt.subplots(figsize=(10,10))\n",
    "sns.heatmap(corr, center=0, annot=True)\n",
    "bottom, top = ax.get_ylim()\n",
    "ax.set_ylim(bottom + 0.5, top - 0.5) \n",
    "\n",
    "plt.savefig('Figures/heatmap_1.png', dpi=300, bbox_inches='tight');"
   ]
  },
  {
   "cell_type": "markdown",
   "metadata": {},
   "source": [
    "### Removing Outliers"
   ]
  },
  {
   "cell_type": "code",
   "execution_count": 65,
   "metadata": {},
   "outputs": [
    {
     "data": {
      "image/png": "[encoded data removed]",
      "text/plain": [
       "<Figure size 432x288 with 1 Axes>"
      ]
     },
     "metadata": {
      "needs_background": "light"
     },
     "output_type": "display_data"
    }
   ],
   "source": [
    "# Create boxplot to see what outliers there may be\n",
    "sns.boxplot(x=df['price'])\n",
    "plt.savefig('Figures/boxplot_outliers.png', dpi=300, bbox_inches='tight');"
   ]
  },
  {
   "cell_type": "code",
   "execution_count": 66,
   "metadata": {},
   "outputs": [],
   "source": [
    "# Find the iqr\n",
    "from scipy.stats import iqr\n",
    "data = df['price']\n",
    "iqr = iqr(data, axis=0)"
   ]
  },
  {
   "cell_type": "code",
   "execution_count": 67,
   "metadata": {},
   "outputs": [
    {
     "data": {
      "text/plain": [
       "-34500.0"
      ]
     },
     "execution_count": 67,
     "metadata": {},
     "output_type": "execute_result"
    }
   ],
   "source": [
    "# define lower outliers\n",
    "lower_outliers = (df['price'].median() - 1.5 * iqr)\n",
    "lower_outliers"
   ]
  },
  {
   "cell_type": "code",
   "execution_count": 68,
   "metadata": {},
   "outputs": [
    {
     "data": {
      "text/plain": [
       "934500.0"
      ]
     },
     "execution_count": 68,
     "metadata": {},
     "output_type": "execute_result"
    }
   ],
   "source": [
    "# define upper outliers\n",
    "upper_outliers = (df['price'].median() + 1.5 * iqr)\n",
    "upper_outliers"
   ]
  },
  {
   "cell_type": "code",
   "execution_count": 69,
   "metadata": {},
   "outputs": [],
   "source": [
    "# drop upper outliers, there aren't any lower outliers \n",
    "df.drop(df[ df['price'] >= upper_outliers ].index , inplace=True)"
   ]
  },
  {
   "cell_type": "code",
   "execution_count": 70,
   "metadata": {},
   "outputs": [
    {
     "name": "stdout",
     "output_type": "stream",
     "text": [
      "count     19758.000000\n",
      "mean     458327.726086\n",
      "std      185541.230425\n",
      "min       78000.000000\n",
      "25%      310000.000000\n",
      "50%      429900.000000\n",
      "75%      580000.000000\n",
      "max      934000.000000\n",
      "Name: price, dtype: float64\n"
     ]
    },
    {
     "data": {
      "image/png": "[encoded data removed]",
      "text/plain": [
       "<Figure size 432x288 with 1 Axes>"
      ]
     },
     "metadata": {
      "needs_background": "light"
     },
     "output_type": "display_data"
    }
   ],
   "source": [
    "# Take another look at the boxplot and describe\n",
    "print(df['price'].describe())\n",
    "sns.boxplot(x=df['price'])\n",
    "\n",
    "plt.savefig('Figures/boxplot_noliers.png', dpi=300, bbox_inches='tight');"
   ]
  },
  {
   "cell_type": "code",
   "execution_count": 71,
   "metadata": {},
   "outputs": [],
   "source": [
    "df2 = df.copy()"
   ]
  },
  {
   "cell_type": "markdown",
   "metadata": {},
   "source": [
    "## Initial Modeling the Data"
   ]
  },
  {
   "cell_type": "code",
   "execution_count": 72,
   "metadata": {},
   "outputs": [
    {
     "data": {
      "text/plain": [
       "['bedrooms',\n",
       " 'bathrooms',\n",
       " 'sqft_living',\n",
       " 'sqft_lot',\n",
       " 'floors',\n",
       " 'waterfront',\n",
       " 'grade',\n",
       " 'sqft_above',\n",
       " 'sqft_basement',\n",
       " 'yr_built',\n",
       " 'yr_renovated',\n",
       " 'sqft_living15',\n",
       " 'sqft_lot15',\n",
       " 'yrs_since_reno',\n",
       " 'condition_2',\n",
       " 'condition_3',\n",
       " 'condition_4',\n",
       " 'condition_5',\n",
       " 'subregion_east_urban',\n",
       " 'subregion_north',\n",
       " 'subregion_north_and_seattle',\n",
       " 'subregion_seattle',\n",
       " 'subregion_south_and_seattle',\n",
       " 'subregion_south_rural',\n",
       " 'subregion_south_urban',\n",
       " 'subregion_vashon_island']"
      ]
     },
     "execution_count": 72,
     "metadata": {},
     "output_type": "execute_result"
    }
   ],
   "source": [
    "# Define the problem\n",
    "outcome = 'price'\n",
    "x_cols = list(df2.columns)\n",
    "x_cols.remove(outcome)\n",
    "x_cols.remove('date')\n",
    "[x_cols.remove(col) for col in df2.columns if \"view\" in col]\n",
    "x_cols"
   ]
  },
  {
   "cell_type": "code",
   "execution_count": 73,
   "metadata": {},
   "outputs": [
    {
     "data": {
      "text/html": [
       "<div>\n",
       "<style scoped>\n",
       "    .dataframe tbody tr th:only-of-type {\n",
       "        vertical-align: middle;\n",
       "    }\n",
       "\n",
       "    .dataframe tbody tr th {\n",
       "        vertical-align: top;\n",
       "    }\n",
       "\n",
       "    .dataframe thead th {\n",
       "        text-align: right;\n",
       "    }\n",
       "</style>\n",
       "<table border=\"1\" class=\"dataframe\">\n",
       "  <thead>\n",
       "    <tr style=\"text-align: right;\">\n",
       "      <th></th>\n",
       "      <th>date</th>\n",
       "      <th>price</th>\n",
       "      <th>bedrooms</th>\n",
       "      <th>bathrooms</th>\n",
       "      <th>sqft_living</th>\n",
       "      <th>sqft_lot</th>\n",
       "      <th>floors</th>\n",
       "      <th>waterfront</th>\n",
       "      <th>grade</th>\n",
       "      <th>sqft_above</th>\n",
       "      <th>...</th>\n",
       "      <th>condition_4</th>\n",
       "      <th>condition_5</th>\n",
       "      <th>subregion_east_urban</th>\n",
       "      <th>subregion_north</th>\n",
       "      <th>subregion_north_and_seattle</th>\n",
       "      <th>subregion_seattle</th>\n",
       "      <th>subregion_south_and_seattle</th>\n",
       "      <th>subregion_south_rural</th>\n",
       "      <th>subregion_south_urban</th>\n",
       "      <th>subregion_vashon_island</th>\n",
       "    </tr>\n",
       "  </thead>\n",
       "  <tbody>\n",
       "    <tr>\n",
       "      <td>0</td>\n",
       "      <td>2014-10-13</td>\n",
       "      <td>221900.0</td>\n",
       "      <td>-0.351980</td>\n",
       "      <td>-1.476456</td>\n",
       "      <td>-1.022612</td>\n",
       "      <td>-0.223466</td>\n",
       "      <td>-0.869532</td>\n",
       "      <td>-0.045039</td>\n",
       "      <td>-0.481355</td>\n",
       "      <td>-0.711585</td>\n",
       "      <td>...</td>\n",
       "      <td>-0.601463</td>\n",
       "      <td>-0.283820</td>\n",
       "      <td>-0.570128</td>\n",
       "      <td>-0.250652</td>\n",
       "      <td>-0.192919</td>\n",
       "      <td>-0.628195</td>\n",
       "      <td>-0.119458</td>\n",
       "      <td>-0.220734</td>\n",
       "      <td>1.663177</td>\n",
       "      <td>-0.075841</td>\n",
       "    </tr>\n",
       "    <tr>\n",
       "      <td>1</td>\n",
       "      <td>2014-12-09</td>\n",
       "      <td>538000.0</td>\n",
       "      <td>-0.351980</td>\n",
       "      <td>0.322719</td>\n",
       "      <td>0.862914</td>\n",
       "      <td>-0.182376</td>\n",
       "      <td>0.997071</td>\n",
       "      <td>-0.045039</td>\n",
       "      <td>-0.481355</td>\n",
       "      <td>0.714416</td>\n",
       "      <td>...</td>\n",
       "      <td>-0.601463</td>\n",
       "      <td>-0.283820</td>\n",
       "      <td>-0.570128</td>\n",
       "      <td>-0.250652</td>\n",
       "      <td>-0.192919</td>\n",
       "      <td>1.591781</td>\n",
       "      <td>-0.119458</td>\n",
       "      <td>-0.220734</td>\n",
       "      <td>-0.601228</td>\n",
       "      <td>-0.075841</td>\n",
       "    </tr>\n",
       "    <tr>\n",
       "      <td>2</td>\n",
       "      <td>2015-02-25</td>\n",
       "      <td>180000.0</td>\n",
       "      <td>-1.488325</td>\n",
       "      <td>-1.476456</td>\n",
       "      <td>-1.578775</td>\n",
       "      <td>-0.111193</td>\n",
       "      <td>-0.869532</td>\n",
       "      <td>-0.045039</td>\n",
       "      <td>-1.493553</td>\n",
       "      <td>-1.302151</td>\n",
       "      <td>...</td>\n",
       "      <td>-0.601463</td>\n",
       "      <td>-0.283820</td>\n",
       "      <td>-0.570128</td>\n",
       "      <td>3.989397</td>\n",
       "      <td>-0.192919</td>\n",
       "      <td>-0.628195</td>\n",
       "      <td>-0.119458</td>\n",
       "      <td>-0.220734</td>\n",
       "      <td>-0.601228</td>\n",
       "      <td>-0.075841</td>\n",
       "    </tr>\n",
       "    <tr>\n",
       "      <td>3</td>\n",
       "      <td>2014-12-09</td>\n",
       "      <td>604000.0</td>\n",
       "      <td>0.784364</td>\n",
       "      <td>1.402224</td>\n",
       "      <td>0.035453</td>\n",
       "      <td>-0.240242</td>\n",
       "      <td>-0.869532</td>\n",
       "      <td>-0.045039</td>\n",
       "      <td>-0.481355</td>\n",
       "      <td>-0.898838</td>\n",
       "      <td>...</td>\n",
       "      <td>-0.601463</td>\n",
       "      <td>3.523182</td>\n",
       "      <td>-0.570128</td>\n",
       "      <td>-0.250652</td>\n",
       "      <td>-0.192919</td>\n",
       "      <td>1.591781</td>\n",
       "      <td>-0.119458</td>\n",
       "      <td>-0.220734</td>\n",
       "      <td>-0.601228</td>\n",
       "      <td>-0.075841</td>\n",
       "    </tr>\n",
       "    <tr>\n",
       "      <td>4</td>\n",
       "      <td>2015-02-18</td>\n",
       "      <td>510000.0</td>\n",
       "      <td>-0.351980</td>\n",
       "      <td>-0.037116</td>\n",
       "      <td>-0.344365</td>\n",
       "      <td>-0.160748</td>\n",
       "      <td>-0.869532</td>\n",
       "      <td>-0.045039</td>\n",
       "      <td>0.530843</td>\n",
       "      <td>0.008617</td>\n",
       "      <td>...</td>\n",
       "      <td>-0.601463</td>\n",
       "      <td>-0.283820</td>\n",
       "      <td>1.753904</td>\n",
       "      <td>-0.250652</td>\n",
       "      <td>-0.192919</td>\n",
       "      <td>-0.628195</td>\n",
       "      <td>-0.119458</td>\n",
       "      <td>-0.220734</td>\n",
       "      <td>-0.601228</td>\n",
       "      <td>-0.075841</td>\n",
       "    </tr>\n",
       "  </tbody>\n",
       "</table>\n",
       "<p>5 rows × 32 columns</p>\n",
       "</div>"
      ],
      "text/plain": [
       "        date     price  bedrooms  bathrooms  sqft_living  sqft_lot    floors  \\\n",
       "0 2014-10-13  221900.0 -0.351980  -1.476456    -1.022612 -0.223466 -0.869532   \n",
       "1 2014-12-09  538000.0 -0.351980   0.322719     0.862914 -0.182376  0.997071   \n",
       "2 2015-02-25  180000.0 -1.488325  -1.476456    -1.578775 -0.111193 -0.869532   \n",
       "3 2014-12-09  604000.0  0.784364   1.402224     0.035453 -0.240242 -0.869532   \n",
       "4 2015-02-18  510000.0 -0.351980  -0.037116    -0.344365 -0.160748 -0.869532   \n",
       "\n",
       "   waterfront     grade  sqft_above  ...  condition_4  condition_5  \\\n",
       "0   -0.045039 -0.481355   -0.711585  ...    -0.601463    -0.283820   \n",
       "1   -0.045039 -0.481355    0.714416  ...    -0.601463    -0.283820   \n",
       "2   -0.045039 -1.493553   -1.302151  ...    -0.601463    -0.283820   \n",
       "3   -0.045039 -0.481355   -0.898838  ...    -0.601463     3.523182   \n",
       "4   -0.045039  0.530843    0.008617  ...    -0.601463    -0.283820   \n",
       "\n",
       "   subregion_east_urban  subregion_north  subregion_north_and_seattle  \\\n",
       "0             -0.570128        -0.250652                    -0.192919   \n",
       "1             -0.570128        -0.250652                    -0.192919   \n",
       "2             -0.570128         3.989397                    -0.192919   \n",
       "3             -0.570128        -0.250652                    -0.192919   \n",
       "4              1.753904        -0.250652                    -0.192919   \n",
       "\n",
       "   subregion_seattle  subregion_south_and_seattle  subregion_south_rural  \\\n",
       "0          -0.628195                    -0.119458              -0.220734   \n",
       "1           1.591781                    -0.119458              -0.220734   \n",
       "2          -0.628195                    -0.119458              -0.220734   \n",
       "3           1.591781                    -0.119458              -0.220734   \n",
       "4          -0.628195                    -0.119458              -0.220734   \n",
       "\n",
       "   subregion_south_urban  subregion_vashon_island  \n",
       "0               1.663177                -0.075841  \n",
       "1              -0.601228                -0.075841  \n",
       "2              -0.601228                -0.075841  \n",
       "3              -0.601228                -0.075841  \n",
       "4              -0.601228                -0.075841  \n",
       "\n",
       "[5 rows x 32 columns]"
      ]
     },
     "execution_count": 73,
     "metadata": {},
     "output_type": "execute_result"
    }
   ],
   "source": [
    "# Some brief preprocessing\n",
    "df2.columns = [col.replace(' ', '_') for col in df2.columns]\n",
    "for col in x_cols:\n",
    "    df2[col] = (df2[col] - df2[col].mean())/df2[col].std()\n",
    "df2.head()"
   ]
  },
  {
   "cell_type": "code",
   "execution_count": 74,
   "metadata": {},
   "outputs": [],
   "source": [
    "from statsmodels.formula.api import ols"
   ]
  },
  {
   "cell_type": "code",
   "execution_count": 75,
   "metadata": {},
   "outputs": [
    {
     "data": {
      "text/html": [
       "<table class=\"simpletable\">\n",
       "<caption>OLS Regression Results</caption>\n",
       "<tr>\n",
       "  <th>Dep. Variable:</th>          <td>price</td>      <th>  R-squared:         </th>  <td>   0.733</td>  \n",
       "</tr>\n",
       "<tr>\n",
       "  <th>Model:</th>                   <td>OLS</td>       <th>  Adj. R-squared:    </th>  <td>   0.733</td>  \n",
       "</tr>\n",
       "<tr>\n",
       "  <th>Method:</th>             <td>Least Squares</td>  <th>  F-statistic:       </th>  <td>   2168.</td>  \n",
       "</tr>\n",
       "<tr>\n",
       "  <th>Date:</th>             <td>Wed, 12 Aug 2020</td> <th>  Prob (F-statistic):</th>   <td>  0.00</td>   \n",
       "</tr>\n",
       "<tr>\n",
       "  <th>Time:</th>                 <td>18:30:16</td>     <th>  Log-Likelihood:    </th> <td>-2.5467e+05</td>\n",
       "</tr>\n",
       "<tr>\n",
       "  <th>No. Observations:</th>      <td> 19758</td>      <th>  AIC:               </th>  <td>5.094e+05</td> \n",
       "</tr>\n",
       "<tr>\n",
       "  <th>Df Residuals:</th>          <td> 19732</td>      <th>  BIC:               </th>  <td>5.096e+05</td> \n",
       "</tr>\n",
       "<tr>\n",
       "  <th>Df Model:</th>              <td>    25</td>      <th>                     </th>      <td> </td>     \n",
       "</tr>\n",
       "<tr>\n",
       "  <th>Covariance Type:</th>      <td>nonrobust</td>    <th>                     </th>      <td> </td>     \n",
       "</tr>\n",
       "</table>\n",
       "<table class=\"simpletable\">\n",
       "<tr>\n",
       "               <td></td>                  <th>coef</th>     <th>std err</th>      <th>t</th>      <th>P>|t|</th>  <th>[0.025</th>    <th>0.975]</th>  \n",
       "</tr>\n",
       "<tr>\n",
       "  <th>Intercept</th>                   <td> 4.583e+05</td> <td>  682.368</td> <td>  671.672</td> <td> 0.000</td> <td> 4.57e+05</td> <td>  4.6e+05</td>\n",
       "</tr>\n",
       "<tr>\n",
       "  <th>bedrooms</th>                    <td>-5716.1901</td> <td>  899.939</td> <td>   -6.352</td> <td> 0.000</td> <td>-7480.147</td> <td>-3952.233</td>\n",
       "</tr>\n",
       "<tr>\n",
       "  <th>bathrooms</th>                   <td> 1.109e+04</td> <td> 1185.120</td> <td>    9.356</td> <td> 0.000</td> <td> 8764.826</td> <td> 1.34e+04</td>\n",
       "</tr>\n",
       "<tr>\n",
       "  <th>sqft_living</th>                 <td> 3.116e+04</td> <td>  770.674</td> <td>   40.430</td> <td> 0.000</td> <td> 2.96e+04</td> <td> 3.27e+04</td>\n",
       "</tr>\n",
       "<tr>\n",
       "  <th>sqft_lot</th>                    <td> 9872.1679</td> <td>  973.962</td> <td>   10.136</td> <td> 0.000</td> <td> 7963.120</td> <td> 1.18e+04</td>\n",
       "</tr>\n",
       "<tr>\n",
       "  <th>floors</th>                      <td> 3151.3391</td> <td> 1044.387</td> <td>    3.017</td> <td> 0.003</td> <td> 1104.254</td> <td> 5198.425</td>\n",
       "</tr>\n",
       "<tr>\n",
       "  <th>waterfront</th>                  <td> 9574.0693</td> <td>  708.533</td> <td>   13.513</td> <td> 0.000</td> <td> 8185.285</td> <td>  1.1e+04</td>\n",
       "</tr>\n",
       "<tr>\n",
       "  <th>grade</th>                       <td> 5.395e+04</td> <td> 1138.266</td> <td>   47.397</td> <td> 0.000</td> <td> 5.17e+04</td> <td> 5.62e+04</td>\n",
       "</tr>\n",
       "<tr>\n",
       "  <th>sqft_above</th>                  <td> 2.718e+04</td> <td>  794.412</td> <td>   34.218</td> <td> 0.000</td> <td> 2.56e+04</td> <td> 2.87e+04</td>\n",
       "</tr>\n",
       "<tr>\n",
       "  <th>sqft_basement</th>               <td> 1.023e+04</td> <td>  746.718</td> <td>   13.705</td> <td> 0.000</td> <td> 8770.106</td> <td> 1.17e+04</td>\n",
       "</tr>\n",
       "<tr>\n",
       "  <th>yr_built</th>                    <td>-3.932e+04</td> <td> 4977.492</td> <td>   -7.900</td> <td> 0.000</td> <td>-4.91e+04</td> <td>-2.96e+04</td>\n",
       "</tr>\n",
       "<tr>\n",
       "  <th>yr_renovated</th>                <td> 3070.6745</td> <td> 1759.992</td> <td>    1.745</td> <td> 0.081</td> <td> -379.057</td> <td> 6520.406</td>\n",
       "</tr>\n",
       "<tr>\n",
       "  <th>sqft_living15</th>               <td> 3.037e+04</td> <td> 1125.053</td> <td>   26.994</td> <td> 0.000</td> <td> 2.82e+04</td> <td> 3.26e+04</td>\n",
       "</tr>\n",
       "<tr>\n",
       "  <th>sqft_lot15</th>                  <td>-1297.5637</td> <td>  995.035</td> <td>   -1.304</td> <td> 0.192</td> <td>-3247.917</td> <td>  652.789</td>\n",
       "</tr>\n",
       "<tr>\n",
       "  <th>yrs_since_reno</th>              <td>-5147.5838</td> <td> 4938.830</td> <td>   -1.042</td> <td> 0.297</td> <td>-1.48e+04</td> <td> 4532.938</td>\n",
       "</tr>\n",
       "<tr>\n",
       "  <th>condition_2</th>                 <td> 2566.4168</td> <td> 1792.569</td> <td>    1.432</td> <td> 0.152</td> <td> -947.169</td> <td> 6080.002</td>\n",
       "</tr>\n",
       "<tr>\n",
       "  <th>condition_3</th>                 <td> 3.274e+04</td> <td> 8702.084</td> <td>    3.762</td> <td> 0.000</td> <td> 1.57e+04</td> <td> 4.98e+04</td>\n",
       "</tr>\n",
       "<tr>\n",
       "  <th>condition_4</th>                 <td> 3.977e+04</td> <td> 8060.409</td> <td>    4.934</td> <td> 0.000</td> <td>  2.4e+04</td> <td> 5.56e+04</td>\n",
       "</tr>\n",
       "<tr>\n",
       "  <th>condition_5</th>                 <td> 3.082e+04</td> <td> 4825.810</td> <td>    6.387</td> <td> 0.000</td> <td> 2.14e+04</td> <td> 4.03e+04</td>\n",
       "</tr>\n",
       "<tr>\n",
       "  <th>subregion_east_urban</th>        <td> 4.186e+04</td> <td> 1557.402</td> <td>   26.878</td> <td> 0.000</td> <td> 3.88e+04</td> <td> 4.49e+04</td>\n",
       "</tr>\n",
       "<tr>\n",
       "  <th>subregion_north</th>             <td> 3388.2409</td> <td> 1030.123</td> <td>    3.289</td> <td> 0.001</td> <td> 1369.114</td> <td> 5407.368</td>\n",
       "</tr>\n",
       "<tr>\n",
       "  <th>subregion_north_and_seattle</th> <td> 5723.0756</td> <td>  931.467</td> <td>    6.144</td> <td> 0.000</td> <td> 3897.322</td> <td> 7548.829</td>\n",
       "</tr>\n",
       "<tr>\n",
       "  <th>subregion_seattle</th>           <td>  5.14e+04</td> <td> 1753.271</td> <td>   29.316</td> <td> 0.000</td> <td>  4.8e+04</td> <td> 5.48e+04</td>\n",
       "</tr>\n",
       "<tr>\n",
       "  <th>subregion_south_and_seattle</th> <td>-2231.3115</td> <td>  792.615</td> <td>   -2.815</td> <td> 0.005</td> <td>-3784.904</td> <td> -677.719</td>\n",
       "</tr>\n",
       "<tr>\n",
       "  <th>subregion_south_rural</th>       <td>-1.682e+04</td> <td>  953.500</td> <td>  -17.644</td> <td> 0.000</td> <td>-1.87e+04</td> <td> -1.5e+04</td>\n",
       "</tr>\n",
       "<tr>\n",
       "  <th>subregion_south_urban</th>       <td>-4.416e+04</td> <td> 1585.313</td> <td>  -27.853</td> <td> 0.000</td> <td>-4.73e+04</td> <td> -4.1e+04</td>\n",
       "</tr>\n",
       "<tr>\n",
       "  <th>subregion_vashon_island</th>     <td>  161.8216</td> <td>  755.445</td> <td>    0.214</td> <td> 0.830</td> <td>-1318.914</td> <td> 1642.557</td>\n",
       "</tr>\n",
       "</table>\n",
       "<table class=\"simpletable\">\n",
       "<tr>\n",
       "  <th>Omnibus:</th>       <td>994.511</td> <th>  Durbin-Watson:     </th> <td>   1.987</td>\n",
       "</tr>\n",
       "<tr>\n",
       "  <th>Prob(Omnibus):</th> <td> 0.000</td>  <th>  Jarque-Bera (JB):  </th> <td>1975.255</td>\n",
       "</tr>\n",
       "<tr>\n",
       "  <th>Skew:</th>          <td> 0.366</td>  <th>  Prob(JB):          </th> <td>    0.00</td>\n",
       "</tr>\n",
       "<tr>\n",
       "  <th>Kurtosis:</th>      <td> 4.365</td>  <th>  Cond. No.          </th> <td>2.38e+15</td>\n",
       "</tr>\n",
       "</table><br/><br/>Warnings:<br/>[1] Standard Errors assume that the covariance matrix of the errors is correctly specified.<br/>[2] The smallest eigenvalue is 1.97e-26. This might indicate that there are<br/>strong multicollinearity problems or that the design matrix is singular."
      ],
      "text/plain": [
       "<class 'statsmodels.iolib.summary.Summary'>\n",
       "\"\"\"\n",
       "                            OLS Regression Results                            \n",
       "==============================================================================\n",
       "Dep. Variable:                  price   R-squared:                       0.733\n",
       "Model:                            OLS   Adj. R-squared:                  0.733\n",
       "Method:                 Least Squares   F-statistic:                     2168.\n",
       "Date:                Wed, 12 Aug 2020   Prob (F-statistic):               0.00\n",
       "Time:                        18:30:16   Log-Likelihood:            -2.5467e+05\n",
       "No. Observations:               19758   AIC:                         5.094e+05\n",
       "Df Residuals:                   19732   BIC:                         5.096e+05\n",
       "Df Model:                          25                                         \n",
       "Covariance Type:            nonrobust                                         \n",
       "===============================================================================================\n",
       "                                  coef    std err          t      P>|t|      [0.025      0.975]\n",
       "-----------------------------------------------------------------------------------------------\n",
       "Intercept                    4.583e+05    682.368    671.672      0.000    4.57e+05     4.6e+05\n",
       "bedrooms                    -5716.1901    899.939     -6.352      0.000   -7480.147   -3952.233\n",
       "bathrooms                    1.109e+04   1185.120      9.356      0.000    8764.826    1.34e+04\n",
       "sqft_living                  3.116e+04    770.674     40.430      0.000    2.96e+04    3.27e+04\n",
       "sqft_lot                     9872.1679    973.962     10.136      0.000    7963.120    1.18e+04\n",
       "floors                       3151.3391   1044.387      3.017      0.003    1104.254    5198.425\n",
       "waterfront                   9574.0693    708.533     13.513      0.000    8185.285     1.1e+04\n",
       "grade                        5.395e+04   1138.266     47.397      0.000    5.17e+04    5.62e+04\n",
       "sqft_above                   2.718e+04    794.412     34.218      0.000    2.56e+04    2.87e+04\n",
       "sqft_basement                1.023e+04    746.718     13.705      0.000    8770.106    1.17e+04\n",
       "yr_built                    -3.932e+04   4977.492     -7.900      0.000   -4.91e+04   -2.96e+04\n",
       "yr_renovated                 3070.6745   1759.992      1.745      0.081    -379.057    6520.406\n",
       "sqft_living15                3.037e+04   1125.053     26.994      0.000    2.82e+04    3.26e+04\n",
       "sqft_lot15                  -1297.5637    995.035     -1.304      0.192   -3247.917     652.789\n",
       "yrs_since_reno              -5147.5838   4938.830     -1.042      0.297   -1.48e+04    4532.938\n",
       "condition_2                  2566.4168   1792.569      1.432      0.152    -947.169    6080.002\n",
       "condition_3                  3.274e+04   8702.084      3.762      0.000    1.57e+04    4.98e+04\n",
       "condition_4                  3.977e+04   8060.409      4.934      0.000     2.4e+04    5.56e+04\n",
       "condition_5                  3.082e+04   4825.810      6.387      0.000    2.14e+04    4.03e+04\n",
       "subregion_east_urban         4.186e+04   1557.402     26.878      0.000    3.88e+04    4.49e+04\n",
       "subregion_north              3388.2409   1030.123      3.289      0.001    1369.114    5407.368\n",
       "subregion_north_and_seattle  5723.0756    931.467      6.144      0.000    3897.322    7548.829\n",
       "subregion_seattle             5.14e+04   1753.271     29.316      0.000     4.8e+04    5.48e+04\n",
       "subregion_south_and_seattle -2231.3115    792.615     -2.815      0.005   -3784.904    -677.719\n",
       "subregion_south_rural       -1.682e+04    953.500    -17.644      0.000   -1.87e+04    -1.5e+04\n",
       "subregion_south_urban       -4.416e+04   1585.313    -27.853      0.000   -4.73e+04    -4.1e+04\n",
       "subregion_vashon_island       161.8216    755.445      0.214      0.830   -1318.914    1642.557\n",
       "==============================================================================\n",
       "Omnibus:                      994.511   Durbin-Watson:                   1.987\n",
       "Prob(Omnibus):                  0.000   Jarque-Bera (JB):             1975.255\n",
       "Skew:                           0.366   Prob(JB):                         0.00\n",
       "Kurtosis:                       4.365   Cond. No.                     2.38e+15\n",
       "==============================================================================\n",
       "\n",
       "Warnings:\n",
       "[1] Standard Errors assume that the covariance matrix of the errors is correctly specified.\n",
       "[2] The smallest eigenvalue is 1.97e-26. This might indicate that there are\n",
       "strong multicollinearity problems or that the design matrix is singular.\n",
       "\"\"\""
      ]
     },
     "execution_count": 75,
     "metadata": {},
     "output_type": "execute_result"
    }
   ],
   "source": [
    "# Fitting the actual model\n",
    "predictors = '+'.join(x_cols)\n",
    "formula = outcome + '~' + predictors\n",
    "model = ols(formula=formula, data=df2).fit()\n",
    "model.summary()"
   ]
  },
  {
   "cell_type": "code",
   "execution_count": 76,
   "metadata": {},
   "outputs": [
    {
     "data": {
      "image/png": "[encoded data removed]",
      "text/plain": [
       "<Figure size 432x288 with 1 Axes>"
      ]
     },
     "metadata": {},
     "output_type": "display_data"
    }
   ],
   "source": [
    "import statsmodels.api as sm\n",
    "import statsmodels.stats.api as sms\n",
    "import statsmodels.formula.api as smf\n",
    "import scipy.stats as stats\n",
    "# Run a qq Test\n",
    "plt.style.use('ggplot')\n",
    "\n",
    "resid = model.resid\n",
    "\n",
    "fig = sm.graphics.qqplot(resid, dist=stats.norm, line='45', fit=True)"
   ]
  },
  {
   "cell_type": "markdown",
   "metadata": {},
   "source": [
    "## Model 2"
   ]
  },
  {
   "cell_type": "code",
   "execution_count": 77,
   "metadata": {},
   "outputs": [],
   "source": [
    "# create a list of all p-values\n",
    "p_values = model.pvalues"
   ]
  },
  {
   "cell_type": "code",
   "execution_count": 78,
   "metadata": {},
   "outputs": [],
   "source": [
    "# Create a list of p-values that weren't significant\n",
    "remove_col = list(p_values[p_values > 0.05].index)"
   ]
  },
  {
   "cell_type": "code",
   "execution_count": 79,
   "metadata": {},
   "outputs": [
    {
     "data": {
      "text/plain": [
       "['yr_renovated',\n",
       " 'sqft_lot15',\n",
       " 'yrs_since_reno',\n",
       " 'condition_2',\n",
       " 'subregion_vashon_island']"
      ]
     },
     "execution_count": 79,
     "metadata": {},
     "output_type": "execute_result"
    }
   ],
   "source": [
    "# Check the column that will be removed due to p-values\n",
    "remove_col"
   ]
  },
  {
   "cell_type": "code",
   "execution_count": 80,
   "metadata": {},
   "outputs": [
    {
     "data": {
      "text/plain": [
       "['bedrooms',\n",
       " 'bathrooms',\n",
       " 'sqft_living',\n",
       " 'sqft_lot',\n",
       " 'floors',\n",
       " 'waterfront',\n",
       " 'grade',\n",
       " 'sqft_above',\n",
       " 'sqft_basement',\n",
       " 'yr_built',\n",
       " 'sqft_living15',\n",
       " 'condition_3',\n",
       " 'condition_4',\n",
       " 'condition_5',\n",
       " 'subregion_east_urban',\n",
       " 'subregion_north',\n",
       " 'subregion_north_and_seattle',\n",
       " 'subregion_seattle',\n",
       " 'subregion_south_and_seattle',\n",
       " 'subregion_south_rural',\n",
       " 'subregion_south_urban']"
      ]
     },
     "execution_count": 80,
     "metadata": {},
     "output_type": "execute_result"
    }
   ],
   "source": [
    "# Remove those columns for the seoncd model\n",
    "x_cols2 = x_cols.copy()\n",
    "[x_cols2.remove(col) for col in remove_col if col in x_cols2]\n",
    "x_cols2"
   ]
  },
  {
   "cell_type": "code",
   "execution_count": 81,
   "metadata": {},
   "outputs": [
    {
     "data": {
      "text/html": [
       "<div>\n",
       "<style scoped>\n",
       "    .dataframe tbody tr th:only-of-type {\n",
       "        vertical-align: middle;\n",
       "    }\n",
       "\n",
       "    .dataframe tbody tr th {\n",
       "        vertical-align: top;\n",
       "    }\n",
       "\n",
       "    .dataframe thead th {\n",
       "        text-align: right;\n",
       "    }\n",
       "</style>\n",
       "<table border=\"1\" class=\"dataframe\">\n",
       "  <thead>\n",
       "    <tr style=\"text-align: right;\">\n",
       "      <th></th>\n",
       "      <th>bedrooms</th>\n",
       "      <th>bathrooms</th>\n",
       "      <th>sqft_living</th>\n",
       "      <th>sqft_lot</th>\n",
       "      <th>floors</th>\n",
       "      <th>waterfront</th>\n",
       "      <th>grade</th>\n",
       "      <th>sqft_above</th>\n",
       "      <th>sqft_basement</th>\n",
       "      <th>yr_built</th>\n",
       "      <th>...</th>\n",
       "      <th>condition_3</th>\n",
       "      <th>condition_4</th>\n",
       "      <th>condition_5</th>\n",
       "      <th>subregion_east_urban</th>\n",
       "      <th>subregion_north</th>\n",
       "      <th>subregion_north_and_seattle</th>\n",
       "      <th>subregion_seattle</th>\n",
       "      <th>subregion_south_and_seattle</th>\n",
       "      <th>subregion_south_rural</th>\n",
       "      <th>subregion_south_urban</th>\n",
       "    </tr>\n",
       "  </thead>\n",
       "  <tbody>\n",
       "    <tr>\n",
       "      <td>bedrooms</td>\n",
       "      <td>1.000000</td>\n",
       "      <td>0.498361</td>\n",
       "      <td>0.604197</td>\n",
       "      <td>0.023417</td>\n",
       "      <td>0.154123</td>\n",
       "      <td>-0.033767</td>\n",
       "      <td>0.315051</td>\n",
       "      <td>0.475398</td>\n",
       "      <td>0.288109</td>\n",
       "      <td>0.167963</td>\n",
       "      <td>...</td>\n",
       "      <td>0.006296</td>\n",
       "      <td>-0.002717</td>\n",
       "      <td>0.014833</td>\n",
       "      <td>0.154208</td>\n",
       "      <td>0.028341</td>\n",
       "      <td>-0.025545</td>\n",
       "      <td>-0.187670</td>\n",
       "      <td>-0.025935</td>\n",
       "      <td>0.010015</td>\n",
       "      <td>0.046373</td>\n",
       "    </tr>\n",
       "    <tr>\n",
       "      <td>bathrooms</td>\n",
       "      <td>0.498361</td>\n",
       "      <td>1.000000</td>\n",
       "      <td>0.706107</td>\n",
       "      <td>0.055663</td>\n",
       "      <td>0.501368</td>\n",
       "      <td>-0.023147</td>\n",
       "      <td>0.599546</td>\n",
       "      <td>0.625924</td>\n",
       "      <td>0.214750</td>\n",
       "      <td>0.556765</td>\n",
       "      <td>...</td>\n",
       "      <td>0.203110</td>\n",
       "      <td>-0.169902</td>\n",
       "      <td>-0.049433</td>\n",
       "      <td>0.201058</td>\n",
       "      <td>0.005060</td>\n",
       "      <td>-0.063854</td>\n",
       "      <td>-0.165640</td>\n",
       "      <td>-0.072936</td>\n",
       "      <td>0.059471</td>\n",
       "      <td>-0.040422</td>\n",
       "    </tr>\n",
       "    <tr>\n",
       "      <td>sqft_living</td>\n",
       "      <td>0.604197</td>\n",
       "      <td>0.706107</td>\n",
       "      <td>1.000000</td>\n",
       "      <td>0.151885</td>\n",
       "      <td>0.331289</td>\n",
       "      <td>-0.008918</td>\n",
       "      <td>0.681410</td>\n",
       "      <td>0.845157</td>\n",
       "      <td>0.375713</td>\n",
       "      <td>0.358938</td>\n",
       "      <td>...</td>\n",
       "      <td>0.114319</td>\n",
       "      <td>-0.080545</td>\n",
       "      <td>-0.042889</td>\n",
       "      <td>0.254451</td>\n",
       "      <td>0.031522</td>\n",
       "      <td>-0.049256</td>\n",
       "      <td>-0.245074</td>\n",
       "      <td>-0.057037</td>\n",
       "      <td>0.036911</td>\n",
       "      <td>-0.030457</td>\n",
       "    </tr>\n",
       "    <tr>\n",
       "      <td>sqft_lot</td>\n",
       "      <td>0.023417</td>\n",
       "      <td>0.055663</td>\n",
       "      <td>0.151885</td>\n",
       "      <td>1.000000</td>\n",
       "      <td>-0.021578</td>\n",
       "      <td>0.013734</td>\n",
       "      <td>0.083940</td>\n",
       "      <td>0.156707</td>\n",
       "      <td>0.007928</td>\n",
       "      <td>0.037054</td>\n",
       "      <td>...</td>\n",
       "      <td>-0.023334</td>\n",
       "      <td>0.020152</td>\n",
       "      <td>-0.008010</td>\n",
       "      <td>0.022186</td>\n",
       "      <td>0.002105</td>\n",
       "      <td>-0.031712</td>\n",
       "      <td>-0.156364</td>\n",
       "      <td>-0.017826</td>\n",
       "      <td>0.148892</td>\n",
       "      <td>-0.010833</td>\n",
       "    </tr>\n",
       "    <tr>\n",
       "      <td>floors</td>\n",
       "      <td>0.154123</td>\n",
       "      <td>0.501368</td>\n",
       "      <td>0.331289</td>\n",
       "      <td>-0.021578</td>\n",
       "      <td>1.000000</td>\n",
       "      <td>-0.014993</td>\n",
       "      <td>0.455392</td>\n",
       "      <td>0.527080</td>\n",
       "      <td>-0.303927</td>\n",
       "      <td>0.519821</td>\n",
       "      <td>...</td>\n",
       "      <td>0.329535</td>\n",
       "      <td>-0.262169</td>\n",
       "      <td>-0.135483</td>\n",
       "      <td>0.056449</td>\n",
       "      <td>-0.049512</td>\n",
       "      <td>-0.042807</td>\n",
       "      <td>0.054324</td>\n",
       "      <td>-0.057756</td>\n",
       "      <td>0.057391</td>\n",
       "      <td>-0.112697</td>\n",
       "    </tr>\n",
       "    <tr>\n",
       "      <td>waterfront</td>\n",
       "      <td>-0.033767</td>\n",
       "      <td>-0.023147</td>\n",
       "      <td>-0.008918</td>\n",
       "      <td>0.013734</td>\n",
       "      <td>-0.014993</td>\n",
       "      <td>1.000000</td>\n",
       "      <td>-0.019401</td>\n",
       "      <td>-0.019738</td>\n",
       "      <td>0.017804</td>\n",
       "      <td>-0.037530</td>\n",
       "      <td>...</td>\n",
       "      <td>-0.018882</td>\n",
       "      <td>0.018797</td>\n",
       "      <td>0.000077</td>\n",
       "      <td>-0.025679</td>\n",
       "      <td>-0.011290</td>\n",
       "      <td>-0.008689</td>\n",
       "      <td>-0.025795</td>\n",
       "      <td>0.013740</td>\n",
       "      <td>-0.009942</td>\n",
       "      <td>0.023916</td>\n",
       "    </tr>\n",
       "    <tr>\n",
       "      <td>grade</td>\n",
       "      <td>0.315051</td>\n",
       "      <td>0.599546</td>\n",
       "      <td>0.681410</td>\n",
       "      <td>0.083940</td>\n",
       "      <td>0.455392</td>\n",
       "      <td>-0.019401</td>\n",
       "      <td>1.000000</td>\n",
       "      <td>0.688629</td>\n",
       "      <td>0.060563</td>\n",
       "      <td>0.507236</td>\n",
       "      <td>...</td>\n",
       "      <td>0.225655</td>\n",
       "      <td>-0.149648</td>\n",
       "      <td>-0.117901</td>\n",
       "      <td>0.298139</td>\n",
       "      <td>0.010764</td>\n",
       "      <td>-0.037781</td>\n",
       "      <td>-0.145105</td>\n",
       "      <td>-0.087518</td>\n",
       "      <td>-0.004030</td>\n",
       "      <td>-0.110182</td>\n",
       "    </tr>\n",
       "    <tr>\n",
       "      <td>sqft_above</td>\n",
       "      <td>0.475398</td>\n",
       "      <td>0.625924</td>\n",
       "      <td>0.845157</td>\n",
       "      <td>0.156707</td>\n",
       "      <td>0.527080</td>\n",
       "      <td>-0.019738</td>\n",
       "      <td>0.688629</td>\n",
       "      <td>1.000000</td>\n",
       "      <td>-0.177822</td>\n",
       "      <td>0.468185</td>\n",
       "      <td>...</td>\n",
       "      <td>0.213278</td>\n",
       "      <td>-0.147814</td>\n",
       "      <td>-0.113409</td>\n",
       "      <td>0.274124</td>\n",
       "      <td>0.016862</td>\n",
       "      <td>-0.064258</td>\n",
       "      <td>-0.324318</td>\n",
       "      <td>-0.057447</td>\n",
       "      <td>0.089519</td>\n",
       "      <td>-0.004266</td>\n",
       "    </tr>\n",
       "    <tr>\n",
       "      <td>sqft_basement</td>\n",
       "      <td>0.288109</td>\n",
       "      <td>0.214750</td>\n",
       "      <td>0.375713</td>\n",
       "      <td>0.007928</td>\n",
       "      <td>-0.303927</td>\n",
       "      <td>0.017804</td>\n",
       "      <td>0.060563</td>\n",
       "      <td>-0.177822</td>\n",
       "      <td>1.000000</td>\n",
       "      <td>-0.150914</td>\n",
       "      <td>...</td>\n",
       "      <td>-0.159312</td>\n",
       "      <td>0.107991</td>\n",
       "      <td>0.117667</td>\n",
       "      <td>-0.006819</td>\n",
       "      <td>0.028797</td>\n",
       "      <td>0.020727</td>\n",
       "      <td>0.111109</td>\n",
       "      <td>-0.005406</td>\n",
       "      <td>-0.087252</td>\n",
       "      <td>-0.048677</td>\n",
       "    </tr>\n",
       "    <tr>\n",
       "      <td>yr_built</td>\n",
       "      <td>0.167963</td>\n",
       "      <td>0.556765</td>\n",
       "      <td>0.358938</td>\n",
       "      <td>0.037054</td>\n",
       "      <td>0.519821</td>\n",
       "      <td>-0.037530</td>\n",
       "      <td>0.507236</td>\n",
       "      <td>0.468185</td>\n",
       "      <td>-0.150914</td>\n",
       "      <td>1.000000</td>\n",
       "      <td>...</td>\n",
       "      <td>0.382358</td>\n",
       "      <td>-0.255982</td>\n",
       "      <td>-0.232489</td>\n",
       "      <td>0.226028</td>\n",
       "      <td>0.018660</td>\n",
       "      <td>-0.056320</td>\n",
       "      <td>-0.387047</td>\n",
       "      <td>-0.062510</td>\n",
       "      <td>0.129867</td>\n",
       "      <td>0.082654</td>\n",
       "    </tr>\n",
       "    <tr>\n",
       "      <td>sqft_living15</td>\n",
       "      <td>0.376356</td>\n",
       "      <td>0.515309</td>\n",
       "      <td>0.725607</td>\n",
       "      <td>0.143845</td>\n",
       "      <td>0.264520</td>\n",
       "      <td>0.002575</td>\n",
       "      <td>0.653267</td>\n",
       "      <td>0.706366</td>\n",
       "      <td>0.111180</td>\n",
       "      <td>0.372161</td>\n",
       "      <td>...</td>\n",
       "      <td>0.141525</td>\n",
       "      <td>-0.083807</td>\n",
       "      <td>-0.097098</td>\n",
       "      <td>0.359683</td>\n",
       "      <td>0.049488</td>\n",
       "      <td>-0.064381</td>\n",
       "      <td>-0.330578</td>\n",
       "      <td>-0.080248</td>\n",
       "      <td>0.048752</td>\n",
       "      <td>-0.051531</td>\n",
       "    </tr>\n",
       "    <tr>\n",
       "      <td>condition_3</td>\n",
       "      <td>0.006296</td>\n",
       "      <td>0.203110</td>\n",
       "      <td>0.114319</td>\n",
       "      <td>-0.023334</td>\n",
       "      <td>0.329535</td>\n",
       "      <td>-0.018882</td>\n",
       "      <td>0.225655</td>\n",
       "      <td>0.213278</td>\n",
       "      <td>-0.159312</td>\n",
       "      <td>0.382358</td>\n",
       "      <td>...</td>\n",
       "      <td>1.000000</td>\n",
       "      <td>-0.819612</td>\n",
       "      <td>-0.386761</td>\n",
       "      <td>-0.003299</td>\n",
       "      <td>0.024224</td>\n",
       "      <td>-0.027854</td>\n",
       "      <td>0.005194</td>\n",
       "      <td>0.014694</td>\n",
       "      <td>0.024870</td>\n",
       "      <td>-0.057359</td>\n",
       "    </tr>\n",
       "    <tr>\n",
       "      <td>condition_4</td>\n",
       "      <td>-0.002717</td>\n",
       "      <td>-0.169902</td>\n",
       "      <td>-0.080545</td>\n",
       "      <td>0.020152</td>\n",
       "      <td>-0.262169</td>\n",
       "      <td>0.018797</td>\n",
       "      <td>-0.149648</td>\n",
       "      <td>-0.147814</td>\n",
       "      <td>0.107991</td>\n",
       "      <td>-0.255982</td>\n",
       "      <td>...</td>\n",
       "      <td>-0.819612</td>\n",
       "      <td>1.000000</td>\n",
       "      <td>-0.170716</td>\n",
       "      <td>0.033908</td>\n",
       "      <td>-0.017150</td>\n",
       "      <td>0.024423</td>\n",
       "      <td>-0.054524</td>\n",
       "      <td>-0.018344</td>\n",
       "      <td>-0.022255</td>\n",
       "      <td>0.067549</td>\n",
       "    </tr>\n",
       "    <tr>\n",
       "      <td>condition_5</td>\n",
       "      <td>0.014833</td>\n",
       "      <td>-0.049433</td>\n",
       "      <td>-0.042889</td>\n",
       "      <td>-0.008010</td>\n",
       "      <td>-0.135483</td>\n",
       "      <td>0.000077</td>\n",
       "      <td>-0.117901</td>\n",
       "      <td>-0.113409</td>\n",
       "      <td>0.117667</td>\n",
       "      <td>-0.232489</td>\n",
       "      <td>...</td>\n",
       "      <td>-0.386761</td>\n",
       "      <td>-0.170716</td>\n",
       "      <td>1.000000</td>\n",
       "      <td>-0.040910</td>\n",
       "      <td>-0.010684</td>\n",
       "      <td>0.016723</td>\n",
       "      <td>0.076220</td>\n",
       "      <td>-0.007731</td>\n",
       "      <td>-0.000402</td>\n",
       "      <td>-0.015315</td>\n",
       "    </tr>\n",
       "    <tr>\n",
       "      <td>subregion_east_urban</td>\n",
       "      <td>0.154208</td>\n",
       "      <td>0.201058</td>\n",
       "      <td>0.254451</td>\n",
       "      <td>0.022186</td>\n",
       "      <td>0.056449</td>\n",
       "      <td>-0.025679</td>\n",
       "      <td>0.298139</td>\n",
       "      <td>0.274124</td>\n",
       "      <td>-0.006819</td>\n",
       "      <td>0.226028</td>\n",
       "      <td>...</td>\n",
       "      <td>-0.003299</td>\n",
       "      <td>0.033908</td>\n",
       "      <td>-0.040910</td>\n",
       "      <td>1.000000</td>\n",
       "      <td>-0.142911</td>\n",
       "      <td>-0.109994</td>\n",
       "      <td>-0.358170</td>\n",
       "      <td>-0.068110</td>\n",
       "      <td>-0.125853</td>\n",
       "      <td>-0.342794</td>\n",
       "    </tr>\n",
       "    <tr>\n",
       "      <td>subregion_north</td>\n",
       "      <td>0.028341</td>\n",
       "      <td>0.005060</td>\n",
       "      <td>0.031522</td>\n",
       "      <td>0.002105</td>\n",
       "      <td>-0.049512</td>\n",
       "      <td>-0.011290</td>\n",
       "      <td>0.010764</td>\n",
       "      <td>0.016862</td>\n",
       "      <td>0.028797</td>\n",
       "      <td>0.018660</td>\n",
       "      <td>...</td>\n",
       "      <td>0.024224</td>\n",
       "      <td>-0.017150</td>\n",
       "      <td>-0.010684</td>\n",
       "      <td>-0.142911</td>\n",
       "      <td>1.000000</td>\n",
       "      <td>-0.048358</td>\n",
       "      <td>-0.157466</td>\n",
       "      <td>-0.029944</td>\n",
       "      <td>-0.055330</td>\n",
       "      <td>-0.150707</td>\n",
       "    </tr>\n",
       "    <tr>\n",
       "      <td>subregion_north_and_seattle</td>\n",
       "      <td>-0.025545</td>\n",
       "      <td>-0.063854</td>\n",
       "      <td>-0.049256</td>\n",
       "      <td>-0.031712</td>\n",
       "      <td>-0.042807</td>\n",
       "      <td>-0.008689</td>\n",
       "      <td>-0.037781</td>\n",
       "      <td>-0.064258</td>\n",
       "      <td>0.020727</td>\n",
       "      <td>-0.056320</td>\n",
       "      <td>...</td>\n",
       "      <td>-0.027854</td>\n",
       "      <td>0.024423</td>\n",
       "      <td>0.016723</td>\n",
       "      <td>-0.109994</td>\n",
       "      <td>-0.048358</td>\n",
       "      <td>1.000000</td>\n",
       "      <td>-0.121197</td>\n",
       "      <td>-0.023047</td>\n",
       "      <td>-0.042586</td>\n",
       "      <td>-0.115995</td>\n",
       "    </tr>\n",
       "    <tr>\n",
       "      <td>subregion_seattle</td>\n",
       "      <td>-0.187670</td>\n",
       "      <td>-0.165640</td>\n",
       "      <td>-0.245074</td>\n",
       "      <td>-0.156364</td>\n",
       "      <td>0.054324</td>\n",
       "      <td>-0.025795</td>\n",
       "      <td>-0.145105</td>\n",
       "      <td>-0.324318</td>\n",
       "      <td>0.111109</td>\n",
       "      <td>-0.387047</td>\n",
       "      <td>...</td>\n",
       "      <td>0.005194</td>\n",
       "      <td>-0.054524</td>\n",
       "      <td>0.076220</td>\n",
       "      <td>-0.358170</td>\n",
       "      <td>-0.157466</td>\n",
       "      <td>-0.121197</td>\n",
       "      <td>1.000000</td>\n",
       "      <td>-0.075047</td>\n",
       "      <td>-0.138671</td>\n",
       "      <td>-0.377708</td>\n",
       "    </tr>\n",
       "    <tr>\n",
       "      <td>subregion_south_and_seattle</td>\n",
       "      <td>-0.025935</td>\n",
       "      <td>-0.072936</td>\n",
       "      <td>-0.057037</td>\n",
       "      <td>-0.017826</td>\n",
       "      <td>-0.057756</td>\n",
       "      <td>0.013740</td>\n",
       "      <td>-0.087518</td>\n",
       "      <td>-0.057447</td>\n",
       "      <td>-0.005406</td>\n",
       "      <td>-0.062510</td>\n",
       "      <td>...</td>\n",
       "      <td>0.014694</td>\n",
       "      <td>-0.018344</td>\n",
       "      <td>-0.007731</td>\n",
       "      <td>-0.068110</td>\n",
       "      <td>-0.029944</td>\n",
       "      <td>-0.023047</td>\n",
       "      <td>-0.075047</td>\n",
       "      <td>1.000000</td>\n",
       "      <td>-0.026370</td>\n",
       "      <td>-0.071825</td>\n",
       "    </tr>\n",
       "    <tr>\n",
       "      <td>subregion_south_rural</td>\n",
       "      <td>0.010015</td>\n",
       "      <td>0.059471</td>\n",
       "      <td>0.036911</td>\n",
       "      <td>0.148892</td>\n",
       "      <td>0.057391</td>\n",
       "      <td>-0.009942</td>\n",
       "      <td>-0.004030</td>\n",
       "      <td>0.089519</td>\n",
       "      <td>-0.087252</td>\n",
       "      <td>0.129867</td>\n",
       "      <td>...</td>\n",
       "      <td>0.024870</td>\n",
       "      <td>-0.022255</td>\n",
       "      <td>-0.000402</td>\n",
       "      <td>-0.125853</td>\n",
       "      <td>-0.055330</td>\n",
       "      <td>-0.042586</td>\n",
       "      <td>-0.138671</td>\n",
       "      <td>-0.026370</td>\n",
       "      <td>1.000000</td>\n",
       "      <td>-0.132718</td>\n",
       "    </tr>\n",
       "    <tr>\n",
       "      <td>subregion_south_urban</td>\n",
       "      <td>0.046373</td>\n",
       "      <td>-0.040422</td>\n",
       "      <td>-0.030457</td>\n",
       "      <td>-0.010833</td>\n",
       "      <td>-0.112697</td>\n",
       "      <td>0.023916</td>\n",
       "      <td>-0.110182</td>\n",
       "      <td>-0.004266</td>\n",
       "      <td>-0.048677</td>\n",
       "      <td>0.082654</td>\n",
       "      <td>...</td>\n",
       "      <td>-0.057359</td>\n",
       "      <td>0.067549</td>\n",
       "      <td>-0.015315</td>\n",
       "      <td>-0.342794</td>\n",
       "      <td>-0.150707</td>\n",
       "      <td>-0.115995</td>\n",
       "      <td>-0.377708</td>\n",
       "      <td>-0.071825</td>\n",
       "      <td>-0.132718</td>\n",
       "      <td>1.000000</td>\n",
       "    </tr>\n",
       "  </tbody>\n",
       "</table>\n",
       "<p>21 rows × 21 columns</p>\n",
       "</div>"
      ],
      "text/plain": [
       "                             bedrooms  bathrooms  sqft_living  sqft_lot  \\\n",
       "bedrooms                     1.000000   0.498361     0.604197  0.023417   \n",
       "bathrooms                    0.498361   1.000000     0.706107  0.055663   \n",
       "sqft_living                  0.604197   0.706107     1.000000  0.151885   \n",
       "sqft_lot                     0.023417   0.055663     0.151885  1.000000   \n",
       "floors                       0.154123   0.501368     0.331289 -0.021578   \n",
       "waterfront                  -0.033767  -0.023147    -0.008918  0.013734   \n",
       "grade                        0.315051   0.599546     0.681410  0.083940   \n",
       "sqft_above                   0.475398   0.625924     0.845157  0.156707   \n",
       "sqft_basement                0.288109   0.214750     0.375713  0.007928   \n",
       "yr_built                     0.167963   0.556765     0.358938  0.037054   \n",
       "sqft_living15                0.376356   0.515309     0.725607  0.143845   \n",
       "condition_3                  0.006296   0.203110     0.114319 -0.023334   \n",
       "condition_4                 -0.002717  -0.169902    -0.080545  0.020152   \n",
       "condition_5                  0.014833  -0.049433    -0.042889 -0.008010   \n",
       "subregion_east_urban         0.154208   0.201058     0.254451  0.022186   \n",
       "subregion_north              0.028341   0.005060     0.031522  0.002105   \n",
       "subregion_north_and_seattle -0.025545  -0.063854    -0.049256 -0.031712   \n",
       "subregion_seattle           -0.187670  -0.165640    -0.245074 -0.156364   \n",
       "subregion_south_and_seattle -0.025935  -0.072936    -0.057037 -0.017826   \n",
       "subregion_south_rural        0.010015   0.059471     0.036911  0.148892   \n",
       "subregion_south_urban        0.046373  -0.040422    -0.030457 -0.010833   \n",
       "\n",
       "                               floors  waterfront     grade  sqft_above  \\\n",
       "bedrooms                     0.154123   -0.033767  0.315051    0.475398   \n",
       "bathrooms                    0.501368   -0.023147  0.599546    0.625924   \n",
       "sqft_living                  0.331289   -0.008918  0.681410    0.845157   \n",
       "sqft_lot                    -0.021578    0.013734  0.083940    0.156707   \n",
       "floors                       1.000000   -0.014993  0.455392    0.527080   \n",
       "waterfront                  -0.014993    1.000000 -0.019401   -0.019738   \n",
       "grade                        0.455392   -0.019401  1.000000    0.688629   \n",
       "sqft_above                   0.527080   -0.019738  0.688629    1.000000   \n",
       "sqft_basement               -0.303927    0.017804  0.060563   -0.177822   \n",
       "yr_built                     0.519821   -0.037530  0.507236    0.468185   \n",
       "sqft_living15                0.264520    0.002575  0.653267    0.706366   \n",
       "condition_3                  0.329535   -0.018882  0.225655    0.213278   \n",
       "condition_4                 -0.262169    0.018797 -0.149648   -0.147814   \n",
       "condition_5                 -0.135483    0.000077 -0.117901   -0.113409   \n",
       "subregion_east_urban         0.056449   -0.025679  0.298139    0.274124   \n",
       "subregion_north             -0.049512   -0.011290  0.010764    0.016862   \n",
       "subregion_north_and_seattle -0.042807   -0.008689 -0.037781   -0.064258   \n",
       "subregion_seattle            0.054324   -0.025795 -0.145105   -0.324318   \n",
       "subregion_south_and_seattle -0.057756    0.013740 -0.087518   -0.057447   \n",
       "subregion_south_rural        0.057391   -0.009942 -0.004030    0.089519   \n",
       "subregion_south_urban       -0.112697    0.023916 -0.110182   -0.004266   \n",
       "\n",
       "                             sqft_basement  yr_built  ...  condition_3  \\\n",
       "bedrooms                          0.288109  0.167963  ...     0.006296   \n",
       "bathrooms                         0.214750  0.556765  ...     0.203110   \n",
       "sqft_living                       0.375713  0.358938  ...     0.114319   \n",
       "sqft_lot                          0.007928  0.037054  ...    -0.023334   \n",
       "floors                           -0.303927  0.519821  ...     0.329535   \n",
       "waterfront                        0.017804 -0.037530  ...    -0.018882   \n",
       "grade                             0.060563  0.507236  ...     0.225655   \n",
       "sqft_above                       -0.177822  0.468185  ...     0.213278   \n",
       "sqft_basement                     1.000000 -0.150914  ...    -0.159312   \n",
       "yr_built                         -0.150914  1.000000  ...     0.382358   \n",
       "sqft_living15                     0.111180  0.372161  ...     0.141525   \n",
       "condition_3                      -0.159312  0.382358  ...     1.000000   \n",
       "condition_4                       0.107991 -0.255982  ...    -0.819612   \n",
       "condition_5                       0.117667 -0.232489  ...    -0.386761   \n",
       "subregion_east_urban             -0.006819  0.226028  ...    -0.003299   \n",
       "subregion_north                   0.028797  0.018660  ...     0.024224   \n",
       "subregion_north_and_seattle       0.020727 -0.056320  ...    -0.027854   \n",
       "subregion_seattle                 0.111109 -0.387047  ...     0.005194   \n",
       "subregion_south_and_seattle      -0.005406 -0.062510  ...     0.014694   \n",
       "subregion_south_rural            -0.087252  0.129867  ...     0.024870   \n",
       "subregion_south_urban            -0.048677  0.082654  ...    -0.057359   \n",
       "\n",
       "                             condition_4  condition_5  subregion_east_urban  \\\n",
       "bedrooms                       -0.002717     0.014833              0.154208   \n",
       "bathrooms                      -0.169902    -0.049433              0.201058   \n",
       "sqft_living                    -0.080545    -0.042889              0.254451   \n",
       "sqft_lot                        0.020152    -0.008010              0.022186   \n",
       "floors                         -0.262169    -0.135483              0.056449   \n",
       "waterfront                      0.018797     0.000077             -0.025679   \n",
       "grade                          -0.149648    -0.117901              0.298139   \n",
       "sqft_above                     -0.147814    -0.113409              0.274124   \n",
       "sqft_basement                   0.107991     0.117667             -0.006819   \n",
       "yr_built                       -0.255982    -0.232489              0.226028   \n",
       "sqft_living15                  -0.083807    -0.097098              0.359683   \n",
       "condition_3                    -0.819612    -0.386761             -0.003299   \n",
       "condition_4                     1.000000    -0.170716              0.033908   \n",
       "condition_5                    -0.170716     1.000000             -0.040910   \n",
       "subregion_east_urban            0.033908    -0.040910              1.000000   \n",
       "subregion_north                -0.017150    -0.010684             -0.142911   \n",
       "subregion_north_and_seattle     0.024423     0.016723             -0.109994   \n",
       "subregion_seattle              -0.054524     0.076220             -0.358170   \n",
       "subregion_south_and_seattle    -0.018344    -0.007731             -0.068110   \n",
       "subregion_south_rural          -0.022255    -0.000402             -0.125853   \n",
       "subregion_south_urban           0.067549    -0.015315             -0.342794   \n",
       "\n",
       "                             subregion_north  subregion_north_and_seattle  \\\n",
       "bedrooms                            0.028341                    -0.025545   \n",
       "bathrooms                           0.005060                    -0.063854   \n",
       "sqft_living                         0.031522                    -0.049256   \n",
       "sqft_lot                            0.002105                    -0.031712   \n",
       "floors                             -0.049512                    -0.042807   \n",
       "waterfront                         -0.011290                    -0.008689   \n",
       "grade                               0.010764                    -0.037781   \n",
       "sqft_above                          0.016862                    -0.064258   \n",
       "sqft_basement                       0.028797                     0.020727   \n",
       "yr_built                            0.018660                    -0.056320   \n",
       "sqft_living15                       0.049488                    -0.064381   \n",
       "condition_3                         0.024224                    -0.027854   \n",
       "condition_4                        -0.017150                     0.024423   \n",
       "condition_5                        -0.010684                     0.016723   \n",
       "subregion_east_urban               -0.142911                    -0.109994   \n",
       "subregion_north                     1.000000                    -0.048358   \n",
       "subregion_north_and_seattle        -0.048358                     1.000000   \n",
       "subregion_seattle                  -0.157466                    -0.121197   \n",
       "subregion_south_and_seattle        -0.029944                    -0.023047   \n",
       "subregion_south_rural              -0.055330                    -0.042586   \n",
       "subregion_south_urban              -0.150707                    -0.115995   \n",
       "\n",
       "                             subregion_seattle  subregion_south_and_seattle  \\\n",
       "bedrooms                             -0.187670                    -0.025935   \n",
       "bathrooms                            -0.165640                    -0.072936   \n",
       "sqft_living                          -0.245074                    -0.057037   \n",
       "sqft_lot                             -0.156364                    -0.017826   \n",
       "floors                                0.054324                    -0.057756   \n",
       "waterfront                           -0.025795                     0.013740   \n",
       "grade                                -0.145105                    -0.087518   \n",
       "sqft_above                           -0.324318                    -0.057447   \n",
       "sqft_basement                         0.111109                    -0.005406   \n",
       "yr_built                             -0.387047                    -0.062510   \n",
       "sqft_living15                        -0.330578                    -0.080248   \n",
       "condition_3                           0.005194                     0.014694   \n",
       "condition_4                          -0.054524                    -0.018344   \n",
       "condition_5                           0.076220                    -0.007731   \n",
       "subregion_east_urban                 -0.358170                    -0.068110   \n",
       "subregion_north                      -0.157466                    -0.029944   \n",
       "subregion_north_and_seattle          -0.121197                    -0.023047   \n",
       "subregion_seattle                     1.000000                    -0.075047   \n",
       "subregion_south_and_seattle          -0.075047                     1.000000   \n",
       "subregion_south_rural                -0.138671                    -0.026370   \n",
       "subregion_south_urban                -0.377708                    -0.071825   \n",
       "\n",
       "                             subregion_south_rural  subregion_south_urban  \n",
       "bedrooms                                  0.010015               0.046373  \n",
       "bathrooms                                 0.059471              -0.040422  \n",
       "sqft_living                               0.036911              -0.030457  \n",
       "sqft_lot                                  0.148892              -0.010833  \n",
       "floors                                    0.057391              -0.112697  \n",
       "waterfront                               -0.009942               0.023916  \n",
       "grade                                    -0.004030              -0.110182  \n",
       "sqft_above                                0.089519              -0.004266  \n",
       "sqft_basement                            -0.087252              -0.048677  \n",
       "yr_built                                  0.129867               0.082654  \n",
       "sqft_living15                             0.048752              -0.051531  \n",
       "condition_3                               0.024870              -0.057359  \n",
       "condition_4                              -0.022255               0.067549  \n",
       "condition_5                              -0.000402              -0.015315  \n",
       "subregion_east_urban                     -0.125853              -0.342794  \n",
       "subregion_north                          -0.055330              -0.150707  \n",
       "subregion_north_and_seattle              -0.042586              -0.115995  \n",
       "subregion_seattle                        -0.138671              -0.377708  \n",
       "subregion_south_and_seattle              -0.026370              -0.071825  \n",
       "subregion_south_rural                     1.000000              -0.132718  \n",
       "subregion_south_urban                    -0.132718               1.000000  \n",
       "\n",
       "[21 rows x 21 columns]"
      ]
     },
     "execution_count": 81,
     "metadata": {},
     "output_type": "execute_result"
    }
   ],
   "source": [
    "# Create a heatmap to see if there is danage of multicorrelation so examine\n",
    "# heat map again to remove any with high correlation\n",
    "feats = x_cols2.copy()\n",
    "corr = df[feats].corr()\n",
    "corr"
   ]
  },
  {
   "cell_type": "code",
   "execution_count": 82,
   "metadata": {},
   "outputs": [
    {
     "ename": "SyntaxError",
     "evalue": "keyword argument repeated (<ipython-input-82-16e6789c9a0c>, line 7)",
     "output_type": "error",
     "traceback": [
      "\u001b[0;36m  File \u001b[0;32m\"<ipython-input-82-16e6789c9a0c>\"\u001b[0;36m, line \u001b[0;32m7\u001b[0m\n\u001b[0;31m    plt.savefig('Figures/heatmap_2.png', dpi=300, bbox_inches='tight', bbox_inches='tight',\u001b[0m\n\u001b[0m                                                                      ^\u001b[0m\n\u001b[0;31mSyntaxError\u001b[0m\u001b[0;31m:\u001b[0m keyword argument repeated\n"
     ]
    }
   ],
   "source": [
    "# There is still some high correlation\n",
    "fig, ax = plt.subplots(figsize=(14,14))\n",
    "sns.heatmap(corr, center=0, annot=True)\n",
    "bottom, top = ax.get_ylim()\n",
    "ax.set_ylim(bottom + 0.5, top - 0.5) \n",
    "\n",
    "plt.savefig('Figures/heatmap_2.png', dpi=300, bbox_inches='tight', bbox_inches='tight', \n",
    "            dpi=300);"
   ]
  },
  {
   "cell_type": "code",
   "execution_count": null,
   "metadata": {},
   "outputs": [],
   "source": [
    "# columns with greater than .65\n",
    "remove_col2 = ['sqft_above', 'condition_4']"
   ]
  },
  {
   "cell_type": "code",
   "execution_count": null,
   "metadata": {},
   "outputs": [],
   "source": [
    "# remove those columns\n",
    "outcome = 'price'\n",
    "[x_cols2.remove(col) for col in remove_col2 if col in x_cols2]\n",
    "x_cols2"
   ]
  },
  {
   "cell_type": "code",
   "execution_count": null,
   "metadata": {},
   "outputs": [],
   "source": [
    "# Run the second model\n",
    "predictors = '+'.join(x_cols2)\n",
    "formula = outcome + '~' + predictors\n",
    "model2 = ols(formula=formula, data=df2).fit()\n",
    "model2.summary()"
   ]
  },
  {
   "cell_type": "markdown",
   "metadata": {},
   "source": [
    "The likely hood multicollinearity dropped."
   ]
  },
  {
   "cell_type": "code",
   "execution_count": null,
   "metadata": {},
   "outputs": [],
   "source": [
    "# Run a qq Test\n",
    "plt.style.use('ggplot')\n",
    "\n",
    "resid2 = model2.resid\n",
    "\n",
    "fig = sm.graphics.qqplot(resid2, dist=stats.norm, line='45', fit=True)"
   ]
  },
  {
   "cell_type": "markdown",
   "metadata": {},
   "source": [
    "### Train Test Split"
   ]
  },
  {
   "cell_type": "code",
   "execution_count": null,
   "metadata": {},
   "outputs": [],
   "source": [
    "# Import model validation functions\n",
    "from sklearn.metrics import r2_score, mean_squared_error\n",
    "from sklearn.model_selection import train_test_split"
   ]
  },
  {
   "cell_type": "code",
   "execution_count": null,
   "metadata": {},
   "outputs": [],
   "source": [
    "# Create a training and test set\n",
    "df_train, df_test = train_test_split(df2,test_size=0.20,shuffle=True,\n",
    "                                     random_state=420)\n",
    "df_train.shape, df_test.shape"
   ]
  },
  {
   "cell_type": "code",
   "execution_count": null,
   "metadata": {},
   "outputs": [],
   "source": [
    "## Train Model using the training data \n",
    "model3 = smf.ols(formula=formula, data=df_train).fit()"
   ]
  },
  {
   "cell_type": "code",
   "execution_count": null,
   "metadata": {
    "scrolled": true
   },
   "outputs": [],
   "source": [
    "# Get Model Predictions and Calculate Training R2\n",
    "r2_train = r2_score(df_train['price'],model3.predict(df_train))\n",
    "print(f'Training Data R-Squared = {round(r2_train,3)}')\n",
    "\n",
    "# Get Model Predictions and Calculate Training R2\n",
    "r2_test = r2_score(df_test['price'],model3.predict(df_test))\n",
    "print(f'Training Data R-Squared = {round(r2_test,3)}')\n",
    "\n",
    "#Display model summary\n",
    "# model3.summary()"
   ]
  },
  {
   "cell_type": "markdown",
   "metadata": {},
   "source": [
    "## Interpretations and presentation figures"
   ]
  },
  {
   "cell_type": "markdown",
   "metadata": {},
   "source": [
    "### Bedrooms and Bathrooms"
   ]
  },
  {
   "cell_type": "code",
   "execution_count": null,
   "metadata": {},
   "outputs": [],
   "source": [
    "# Set context to look better on a presentation\n",
    "sns.set_context(\"talk\")\n",
    "sns.set_style('dark')"
   ]
  },
  {
   "cell_type": "code",
   "execution_count": null,
   "metadata": {},
   "outputs": [],
   "source": [
    "# Graph Price per Bedrooms\n",
    "fig, axs = plt.subplots(figsize=(24,10), ncols=2)\n",
    "\n",
    "bed_line = sns.regplot(x=df['bedrooms'], y=df['price'],data=df, ax=axs[0])\n",
    "bed_line.set_title('Price per Bedrooms')\n",
    "\n",
    "bed_box = sns.boxplot(x=df['bedrooms'], y=df['price'],data=df, showfliers=False, ax=axs[1])\n",
    "bed_box.set_title('Price per Bedrooms')\n",
    "\n",
    "# Save plot as png\n",
    "plt.savefig('Figures/bedrooms_subplots.png', transparent=True, bbox_inches='tight', \n",
    "            dpi=300);"
   ]
  },
  {
   "cell_type": "code",
   "execution_count": null,
   "metadata": {},
   "outputs": [],
   "source": [
    "bathroom_lable = df['bathrooms'].unique()\n",
    "bathroom_lable.sort()\n",
    "bathroom_lable"
   ]
  },
  {
   "cell_type": "code",
   "execution_count": null,
   "metadata": {},
   "outputs": [],
   "source": [
    "fig, axs = plt.subplots(figsize=(24,10), ncols=2)\n",
    "\n",
    "bath_line = sns.regplot(x=df['bathrooms'], y=df['price'],data=df, ax=axs[0])\n",
    "bath_line.set_title('Price per Bathrooms')\n",
    "\n",
    "bath_box = sns.boxplot('bathrooms','price',data=df, showfliers=False, ax=axs[1])\n",
    "bath_box.set_xticklabels(bathroom_lable, rotation=90, ha='right')\n",
    "bath_box.set_title('Price per Bathrooms')\n",
    "\n",
    "# Save plot as png\n",
    "plt.savefig('figures/bathrooms_subplots.png', transparent=True, bbox_inches='tight', \n",
    "            dpi=300);"
   ]
  },
  {
   "cell_type": "markdown",
   "metadata": {},
   "source": [
    "#### Interpretation:\n",
    "- In general, number of bathrooms and bedrooms relate to price of house.\n",
    "- More bedrooms and bathrooms, the more the house goes for."
   ]
  },
  {
   "cell_type": "markdown",
   "metadata": {},
   "source": [
    "### Grade"
   ]
  },
  {
   "cell_type": "code",
   "execution_count": null,
   "metadata": {},
   "outputs": [],
   "source": [
    "fig, axs = plt.subplots(figsize=(24,10), ncols=2)\n",
    "\n",
    "grade_line = sns.regplot(x=df['grade'], y=df['price'],data=df, ax=axs[0])\n",
    "grade_line.set_title('Price per Kings County Grade')\n",
    "\n",
    "grade_box = sns.boxplot(x=df['grade'], y=df['price'],data=df, showfliers=False, ax=axs[1])\n",
    "grade_box.set_title('Price per Kings County Grade')\n",
    "\n",
    "# Save plot as png\n",
    "plt.savefig('Figures/grade_subplots.png', transparent=True,bbox_inches='tight', \n",
    "            dpi=300);"
   ]
  },
  {
   "cell_type": "markdown",
   "metadata": {},
   "source": [
    "#### Interpretation\n",
    "- The higher the grade, the high the sales price."
   ]
  },
  {
   "cell_type": "code",
   "execution_count": null,
   "metadata": {},
   "outputs": [],
   "source": [
    "sqft_line = sns.regplot(x=df['sqft_living'], y=df['price'],data=df)\n",
    "sqft_line.set_title('Price per Living Space (sqft)')\n",
    "sqft_line.set_xlabel('Living Space (in sqft)')\n",
    "sqft_line.set_ylabel('Price')\n",
    "\n",
    "\n",
    "# Save plot as png\n",
    "plt.savefig('Figures/sqft_living_subplots.png', transparent=True, bbox_inches='tight', \n",
    "            dpi=300);"
   ]
  },
  {
   "cell_type": "markdown",
   "metadata": {},
   "source": [
    "### Subregion Boxplot"
   ]
  },
  {
   "cell_type": "code",
   "execution_count": null,
   "metadata": {},
   "outputs": [],
   "source": [
    "# Create subregion list\n",
    "subregion_list = []\n",
    "for x in df.columns:\n",
    "    if 'subregion' in x:\n",
    "        subregion_list.append(x)"
   ]
  },
  {
   "cell_type": "code",
   "execution_count": null,
   "metadata": {},
   "outputs": [],
   "source": [
    "subregion_list"
   ]
  },
  {
   "cell_type": "code",
   "execution_count": null,
   "metadata": {},
   "outputs": [],
   "source": [
    "# Def to create a column with subregions for boxplot\n",
    "def get_region(row):\n",
    "    '''Loops through subregion_list to create a column with sub_region names\n",
    "    from the boolean columns'''\n",
    "    for c in subregion_list:\n",
    "        if row[c]==1:\n",
    "            return c"
   ]
  },
  {
   "cell_type": "code",
   "execution_count": null,
   "metadata": {},
   "outputs": [],
   "source": [
    "df['region'] = df.apply(get_region, axis=1)"
   ]
  },
  {
   "cell_type": "code",
   "execution_count": null,
   "metadata": {},
   "outputs": [],
   "source": [
    "# Create dict of subregions and price\n",
    "region_dict = {}\n",
    "for x in subregion_list:\n",
    "\n",
    "    try:\n",
    "        temp = df.groupby(x).get_group(True)['price']\n",
    "        region_dict[x] = temp.reset_index()\n",
    "    except:\n",
    "        print(x)\n",
    "# region_dict"
   ]
  },
  {
   "cell_type": "code",
   "execution_count": null,
   "metadata": {},
   "outputs": [],
   "source": [
    "# Create Dictionary without a Dataframe in it\n",
    "region_dict2 = {}\n",
    "for x in subregion_list:\n",
    "    region_dict2[x] = region_dict[x]['price']\n",
    "# region_dict2['subregion_east_urban']"
   ]
  },
  {
   "cell_type": "code",
   "execution_count": null,
   "metadata": {},
   "outputs": [],
   "source": [
    "# Create a DataFrame of subregions and price for a boxplot\n",
    "df_region = pd.DataFrame.from_dict(region_dict2)\n",
    "df_region.head()"
   ]
  },
  {
   "cell_type": "code",
   "execution_count": null,
   "metadata": {},
   "outputs": [],
   "source": [
    "region_box = sns.boxplot(data=df_region, showfliers=False)\n",
    "region_box.set_xticklabels(subregion_list, rotation=45, ha='right')\n",
    "region_box.set_title('Sale Price per Subregion (Without Outliers)')\n",
    "region_box.set_xticklabels(df_region, rotation=45, ha='right')\n",
    "region_box.set_ylabel('Sale Price')\n",
    "region_box.set_xlabel('Subregions')\n",
    "bottom, top = region_box.get_ylim()\n",
    "region_box.set_ylim(bottom + 1.5, top - 0.5) \n",
    "\n",
    "# Save plot as png\n",
    "plt.savefig('Figures/subregion_boxwhisker.png', transparent=False, \n",
    "            bbox_inches='tight', dpi=300);"
   ]
  },
  {
   "cell_type": "markdown",
   "metadata": {},
   "source": [
    "### Things not important"
   ]
  },
  {
   "cell_type": "code",
   "execution_count": null,
   "metadata": {},
   "outputs": [],
   "source": [
    "yr_built = sns.regplot(x='yr_built', y='price', data=df, line_kws={'color':'black',\n",
    "                                                                  'ls':':'},\n",
    "                      scatter_kws={'alpha':.7, 's':3})\n",
    "yr_built.set_title('Year Built')\n",
    "yr_built.set_ylabel('Sales Price')\n",
    "yr_built.set_xlabel('Year Built')\n",
    "\n",
    "# Save plot as png\n",
    "plt.savefig('Figures/yr_built.png', transparent=True, bbox_inches='tight', \n",
    "            dpi=300);"
   ]
  },
  {
   "cell_type": "markdown",
   "metadata": {},
   "source": [
    "### Overall Recommendations:\n",
    "- Year built has little relationship with price\n",
    "- Number of bathroom and bedrooms have a greater relationship with price\n",
    "- The living area square feet relates to sales price positively\n",
    "- Subregion: where the house is located can effect the sale price\n",
    "- King County Grade is a god predictor of the sales price. \n",
    "- If you want to increase sales price focus on increasing King County Grade(high end finishes, custom designs, high quality material used), increasing living square feet by adding bedrooms and/or bathrooms  "
   ]
  },
  {
   "cell_type": "code",
   "execution_count": null,
   "metadata": {},
   "outputs": [],
   "source": []
  }
 ],
 "metadata": {
  "kernelspec": {
   "display_name": "Python 3",
   "language": "python",
   "name": "python3"
  },
  "language_info": {
   "codemirror_mode": {
    "name": "ipython",
    "version": 3
   },
   "file_extension": ".py",
   "mimetype": "text/x-python",
   "name": "python",
   "nbconvert_exporter": "python",
   "pygments_lexer": "ipython3",
   "version": "3.6.9"
  },
  "toc": {
   "base_numbering": 1,
   "nav_menu": {},
   "number_sections": true,
   "sideBar": true,
   "skip_h1_title": false,
   "title_cell": "Table of Contents",
   "title_sidebar": "Contents",
   "toc_cell": false,
   "toc_position": {
    "height": "calc(100% - 180px)",
    "left": "10px",
    "top": "150px",
    "width": "206px"
   },
   "toc_section_display": true,
   "toc_window_display": true
  },
  "varInspector": {
   "cols": {
    "lenName": 16,
    "lenType": 16,
    "lenVar": 40
   },
   "kernels_config": {
    "python": {
     "delete_cmd_postfix": "",
     "delete_cmd_prefix": "del ",
     "library": "var_list.py",
     "varRefreshCmd": "print(var_dic_list())"
    },
    "r": {
     "delete_cmd_postfix": ") ",
     "delete_cmd_prefix": "rm(",
     "library": "var_list.r",
     "varRefreshCmd": "cat(var_dic_list()) "
    }
   },
   "types_to_exclude": [
    "module",
    "function",
    "builtin_function_or_method",
    "instance",
    "_Feature"
   ],
   "window_display": false
  }
 },
 "nbformat": 4,
 "nbformat_minor": 2
}
